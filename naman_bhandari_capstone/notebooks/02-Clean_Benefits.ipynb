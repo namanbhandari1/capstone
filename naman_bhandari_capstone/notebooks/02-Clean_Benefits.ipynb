{
 "cells": [
  {
   "cell_type": "markdown",
   "metadata": {},
   "source": [
    "# Cleaning `benefits`"
   ]
  },
  {
   "cell_type": "markdown",
   "metadata": {},
   "source": [
    "In this notebook, I unpickled the compressed `benefits` CSV from the previous notebook and used Pandas to further manipulate the data.  I use the following libraries:\n",
    "\n",
    "1. `pandas` - A library for manipulating data in a tabular format\n",
    "2. `pickle` - used to store data for later use"
   ]
  },
  {
   "cell_type": "code",
   "execution_count": 1,
   "metadata": {},
   "outputs": [],
   "source": [
    "import pandas as pd\n",
    "import pickle"
   ]
  },
  {
   "cell_type": "code",
   "execution_count": 2,
   "metadata": {},
   "outputs": [
    {
     "data": {
      "text/plain": [
       "(5048408, 32)"
      ]
     },
     "execution_count": 2,
     "metadata": {},
     "output_type": "execute_result"
    }
   ],
   "source": [
    "with open('../pickles/benefits.pkl', 'rb') as benefits:\n",
    "    benefits = pickle.load(benefits)\n",
    "benefits.shape"
   ]
  },
  {
   "cell_type": "markdown",
   "metadata": {},
   "source": [
    "Below, I dropped all `'PlanIds'` except '-00' variants, as the PlanId variants simply identify an insurance plan’s cost sharing reduction variant. Different PlanIds encode the same benefits information, so duplicative PlanIds are not needed."
   ]
  },
  {
   "cell_type": "code",
   "execution_count": 3,
   "metadata": {},
   "outputs": [
    {
     "data": {
      "text/plain": [
       "(1195765, 32)"
      ]
     },
     "execution_count": 3,
     "metadata": {},
     "output_type": "execute_result"
    }
   ],
   "source": [
    "benefits = benefits[benefits.PlanId.str.contains('-00')]\n",
    "benefits.shape"
   ]
  },
  {
   "cell_type": "markdown",
   "metadata": {},
   "source": [
    "Below, I dropped duplicative or un-needed columns."
   ]
  },
  {
   "cell_type": "code",
   "execution_count": 4,
   "metadata": {},
   "outputs": [],
   "source": [
    "benefits.drop(columns=['EHBVarReason', \n",
    "                       'Exclusions',\n",
    "                       'Explanation',\n",
    "                       'ImportDate',\n",
    "                       'IsEHB',\n",
    "                       'IsStateMandate',\n",
    "                       'VersionNum',\n",
    "                       'StateCode2',\n",
    "                       'IssuerId',\n",
    "                       'IssuerId2',\n",
    "                       'SourceName'], inplace=True)"
   ]
  },
  {
   "cell_type": "markdown",
   "metadata": {},
   "source": [
    "Below, I dropped any benefits that were not covered by the health insurance plan."
   ]
  },
  {
   "cell_type": "code",
   "execution_count": 5,
   "metadata": {},
   "outputs": [
    {
     "data": {
      "text/plain": [
       "(1138140, 21)"
      ]
     },
     "execution_count": 5,
     "metadata": {},
     "output_type": "execute_result"
    }
   ],
   "source": [
    "benefits = benefits.dropna(subset=['IsCovered'])\n",
    "benefits.shape"
   ]
  },
  {
   "cell_type": "markdown",
   "metadata": {},
   "source": [
    "I am focusing only on a single plan year, so I'm dropping plans not in the current year."
   ]
  },
  {
   "cell_type": "code",
   "execution_count": 6,
   "metadata": {},
   "outputs": [
    {
     "data": {
      "text/plain": [
       "(425215, 21)"
      ]
     },
     "execution_count": 6,
     "metadata": {},
     "output_type": "execute_result"
    }
   ],
   "source": [
    "benefits = benefits[benefits['BusinessYear'] == 2016]\n",
    "benefits.shape"
   ]
  },
  {
   "cell_type": "markdown",
   "metadata": {},
   "source": [
    "Below, I'm removing \"junk\" characters."
   ]
  },
  {
   "cell_type": "code",
   "execution_count": 7,
   "metadata": {},
   "outputs": [],
   "source": [
    "benefits['BenefitName'] = benefits['BenefitName'].map(lambda x: x.replace('\\x93', ''))\n",
    "benefits['BenefitName'] = benefits['BenefitName'].map(lambda x: x.replace('\\x94', ''))\n",
    "benefits['BenefitName'] = benefits['BenefitName'].map(lambda x: x.replace('\\t', ''))"
   ]
  },
  {
   "cell_type": "code",
   "execution_count": 8,
   "metadata": {},
   "outputs": [
    {
     "data": {
      "text/plain": [
       "(425215, 21)"
      ]
     },
     "execution_count": 8,
     "metadata": {},
     "output_type": "execute_result"
    }
   ],
   "source": [
    "benefits.shape"
   ]
  },
  {
   "cell_type": "markdown",
   "metadata": {},
   "source": [
    "## Crosswalk\n",
    "\n",
    "The benefits dataframe has, as you might expect, a column called `'BenefitName'`, which contains each benefit offered in each health insurance plan. Many of the benefits in the column are the same but differ due to misspellings or containing extraneous characters.\n",
    "\n",
    "I created a `crosswalk` CSV in which I mapped `'BenefitName'` variants to a single name. For example, these three benefits:\n",
    "\n",
    "- Cosmetic Orthodontia-Child\n",
    "- Cosmetic Orthodontics - Child\n",
    "- Cosmetic Orthodontics-Child\n",
    "\n",
    "Were collapsed into one, renamed benefit:\n",
    "\n",
    "- Orthodontia, Cosmetic - Child\n",
    "\n",
    "Further, I created dummy columns for each benefit in the Crosswalk that I then merged with the `rate` details, in a later notebook. This allows us to analyze each plan in the rate file with its corresponding associated benefits."
   ]
  },
  {
   "cell_type": "code",
   "execution_count": 9,
   "metadata": {},
   "outputs": [],
   "source": [
    "crosswalk = pd.read_csv('../data/crosswalk2.csv')"
   ]
  },
  {
   "cell_type": "code",
   "execution_count": 10,
   "metadata": {},
   "outputs": [],
   "source": [
    "benefits = pd.merge(benefits, crosswalk, on='BenefitName')"
   ]
  },
  {
   "cell_type": "code",
   "execution_count": 11,
   "metadata": {},
   "outputs": [],
   "source": [
    "dummies = pd.get_dummies(benefits['Crosswalk'])"
   ]
  },
  {
   "cell_type": "code",
   "execution_count": 12,
   "metadata": {},
   "outputs": [
    {
     "data": {
      "text/plain": [
       "(425215, 22)"
      ]
     },
     "execution_count": 12,
     "metadata": {},
     "output_type": "execute_result"
    }
   ],
   "source": [
    "benefits.shape"
   ]
  },
  {
   "cell_type": "code",
   "execution_count": 13,
   "metadata": {},
   "outputs": [],
   "source": [
    "benefits = pd.concat([benefits, dummies], axis=1)"
   ]
  },
  {
   "cell_type": "code",
   "execution_count": 14,
   "metadata": {},
   "outputs": [],
   "source": [
    "benefits = benefits[benefits['delete'] != 1]"
   ]
  },
  {
   "cell_type": "code",
   "execution_count": 15,
   "metadata": {},
   "outputs": [],
   "source": [
    "benefits = benefits.drop('delete', axis=1)"
   ]
  },
  {
   "cell_type": "code",
   "execution_count": 16,
   "metadata": {},
   "outputs": [
    {
     "data": {
      "text/plain": [
       "(413907, 229)"
      ]
     },
     "execution_count": 16,
     "metadata": {},
     "output_type": "execute_result"
    }
   ],
   "source": [
    "benefits.shape"
   ]
  },
  {
   "cell_type": "code",
   "execution_count": 17,
   "metadata": {},
   "outputs": [],
   "source": [
    "# with open('../pickles/benefits_dum.pkl', 'wb') as file:\n",
    "#     pickle.dump(benefits, file)"
   ]
  }
 ],
 "metadata": {
  "kernelspec": {
   "display_name": "Python 3",
   "language": "python",
   "name": "python3"
  },
  "language_info": {
   "codemirror_mode": {
    "name": "ipython",
    "version": 3
   },
   "file_extension": ".py",
   "mimetype": "text/x-python",
   "name": "python",
   "nbconvert_exporter": "python",
   "pygments_lexer": "ipython3",
   "version": "3.6.5"
  }
 },
 "nbformat": 4,
 "nbformat_minor": 2
}
