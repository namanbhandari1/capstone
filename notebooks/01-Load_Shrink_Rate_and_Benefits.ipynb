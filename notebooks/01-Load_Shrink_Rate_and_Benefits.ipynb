{
 "cells": [
  {
   "cell_type": "markdown",
   "metadata": {},
   "source": [
    "# Pre-processing data\n",
    "\n",
    "In this notebook I compressed my CSV files by casting object columns as categories. This reduces Pandas' memory usage by hashing data in each column. I use the following libraries:\n",
    "\n",
    "1. `pandas` - A library for manipulating data in a tabular format\n",
    "2. `pickle` - used to store data for later use\n",
    "\n",
    "I created this notebook to compress my CSVs and save them as pickles only. This allows me to reduce my memory usage as I perform the bulk of my work in later notebooks."
   ]
  },
  {
   "cell_type": "code",
   "execution_count": 3,
   "metadata": {},
   "outputs": [],
   "source": [
    "import pandas as pd\n",
    "import pickle"
   ]
  },
  {
   "cell_type": "markdown",
   "metadata": {},
   "source": [
    "## Compress `rate` CSV\n",
    "\n",
    "The `rate` CSV file plan-level data on individual rates based on an eligible subscriber’s age, tobacco use, and geographic location, and family-tier rates. Additional information can be found in the [data dictionary provided by CMS here.](https://www.cms.gov/CCIIO/Resources/Data-Resources/Downloads/Rate-Data-Dictionary.pdf)"
   ]
  },
  {
   "cell_type": "code",
   "execution_count": 4,
   "metadata": {},
   "outputs": [],
   "source": [
    "rate = pd.read_csv('../data/Rate.csv')"
   ]
  },
  {
   "cell_type": "code",
   "execution_count": 5,
   "metadata": {
    "scrolled": true
   },
   "outputs": [
    {
     "name": "stdout",
     "output_type": "stream",
     "text": [
      "<class 'pandas.core.frame.DataFrame'>\n",
      "RangeIndex: 12694445 entries, 0 to 12694444\n",
      "Data columns (total 24 columns):\n",
      "BusinessYear                                 int64\n",
      "StateCode                                    object\n",
      "IssuerId                                     int64\n",
      "SourceName                                   object\n",
      "VersionNum                                   int64\n",
      "ImportDate                                   object\n",
      "IssuerId2                                    int64\n",
      "FederalTIN                                   object\n",
      "RateEffectiveDate                            object\n",
      "RateExpirationDate                           object\n",
      "PlanId                                       object\n",
      "RatingAreaId                                 object\n",
      "Tobacco                                      object\n",
      "Age                                          object\n",
      "IndividualRate                               float64\n",
      "IndividualTobaccoRate                        float64\n",
      "Couple                                       float64\n",
      "PrimarySubscriberAndOneDependent             float64\n",
      "PrimarySubscriberAndTwoDependents            float64\n",
      "PrimarySubscriberAndThreeOrMoreDependents    float64\n",
      "CoupleAndOneDependent                        float64\n",
      "CoupleAndTwoDependents                       float64\n",
      "CoupleAndThreeOrMoreDependents               float64\n",
      "RowNumber                                    int64\n",
      "dtypes: float64(9), int64(5), object(10)\n",
      "memory usage: 9.3 GB\n"
     ]
    }
   ],
   "source": [
    "rate.info(memory_usage='deep')"
   ]
  },
  {
   "cell_type": "code",
   "execution_count": 8,
   "metadata": {},
   "outputs": [],
   "source": [
    "rate[rate.select_dtypes(['object']).columns] = rate.select_dtypes(['object']).apply(lambda x: x.astype('category'))"
   ]
  },
  {
   "cell_type": "code",
   "execution_count": 9,
   "metadata": {},
   "outputs": [
    {
     "name": "stdout",
     "output_type": "stream",
     "text": [
      "<class 'pandas.core.frame.DataFrame'>\n",
      "RangeIndex: 12694445 entries, 0 to 12694444\n",
      "Data columns (total 24 columns):\n",
      "BusinessYear                                 int64\n",
      "StateCode                                    category\n",
      "IssuerId                                     int64\n",
      "SourceName                                   category\n",
      "VersionNum                                   int64\n",
      "ImportDate                                   category\n",
      "IssuerId2                                    int64\n",
      "FederalTIN                                   category\n",
      "RateEffectiveDate                            category\n",
      "RateExpirationDate                           category\n",
      "PlanId                                       category\n",
      "RatingAreaId                                 category\n",
      "Tobacco                                      category\n",
      "Age                                          category\n",
      "IndividualRate                               float64\n",
      "IndividualTobaccoRate                        float64\n",
      "Couple                                       float64\n",
      "PrimarySubscriberAndOneDependent             float64\n",
      "PrimarySubscriberAndTwoDependents            float64\n",
      "PrimarySubscriberAndThreeOrMoreDependents    float64\n",
      "CoupleAndOneDependent                        float64\n",
      "CoupleAndTwoDependents                       float64\n",
      "CoupleAndThreeOrMoreDependents               float64\n",
      "RowNumber                                    int64\n",
      "dtypes: category(10), float64(9), int64(5)\n",
      "memory usage: 1.5 GB\n"
     ]
    }
   ],
   "source": [
    "rate.info(memory_usage='deep')"
   ]
  },
  {
   "cell_type": "code",
   "execution_count": 6,
   "metadata": {},
   "outputs": [],
   "source": [
    "# with open('../pickles/rate.pkl', 'wb') as file:\n",
    "#     pickle.dump(rate, file)"
   ]
  },
  {
   "cell_type": "markdown",
   "metadata": {},
   "source": [
    "## Compress `benefits` CSV\n",
    "\n",
    "The `benefits` CSV file contains plan data on essential health benefits, coverage limits, and cost sharing for each health plan. Additional information can be found in the [data dictionary provided by CMS here.](https://www.cms.gov/CCIIO/Resources/Data-Resources/Downloads/Benefits-and-Cost-Sharing-Data-Dictionary.pdf)"
   ]
  },
  {
   "cell_type": "code",
   "execution_count": 10,
   "metadata": {},
   "outputs": [
    {
     "name": "stderr",
     "output_type": "stream",
     "text": [
      "/Users/namanbhandari/anaconda3/lib/python3.6/site-packages/IPython/core/interactiveshell.py:3018: DtypeWarning: Columns (3,6,9,10,16,17,18) have mixed types. Specify dtype option on import or set low_memory=False.\n",
      "  interactivity=interactivity, compiler=compiler, result=result)\n"
     ]
    }
   ],
   "source": [
    "benefits = pd.read_csv('../data/BenefitsCostSharing.csv')"
   ]
  },
  {
   "cell_type": "code",
   "execution_count": 11,
   "metadata": {
    "scrolled": true
   },
   "outputs": [
    {
     "name": "stdout",
     "output_type": "stream",
     "text": [
      "<class 'pandas.core.frame.DataFrame'>\n",
      "RangeIndex: 5048408 entries, 0 to 5048407\n",
      "Data columns (total 32 columns):\n",
      "BenefitName            object\n",
      "BusinessYear           int64\n",
      "CoinsInnTier1          object\n",
      "CoinsInnTier2          object\n",
      "CoinsOutofNet          object\n",
      "CopayInnTier1          object\n",
      "CopayInnTier2          object\n",
      "CopayOutofNet          object\n",
      "EHBVarReason           object\n",
      "Exclusions             object\n",
      "Explanation            object\n",
      "ImportDate             object\n",
      "IsCovered              object\n",
      "IsEHB                  object\n",
      "IsExclFromInnMOOP      object\n",
      "IsExclFromOonMOOP      object\n",
      "IsStateMandate         object\n",
      "IsSubjToDedTier1       object\n",
      "IsSubjToDedTier2       object\n",
      "IssuerId               int64\n",
      "IssuerId2              int64\n",
      "LimitQty               float64\n",
      "LimitUnit              object\n",
      "MinimumStay            float64\n",
      "PlanId                 object\n",
      "QuantLimitOnSvc        object\n",
      "RowNumber              int64\n",
      "SourceName             object\n",
      "StandardComponentId    object\n",
      "StateCode              object\n",
      "StateCode2             object\n",
      "VersionNum             int64\n",
      "dtypes: float64(2), int64(5), object(25)\n",
      "memory usage: 6.9 GB\n"
     ]
    }
   ],
   "source": [
    "benefits.info(memory_usage='deep')"
   ]
  },
  {
   "cell_type": "code",
   "execution_count": 12,
   "metadata": {},
   "outputs": [],
   "source": [
    "benefits[benefits.select_dtypes(['object']).columns] = benefits.select_dtypes(['object']).apply(lambda x: x.astype('category'))"
   ]
  },
  {
   "cell_type": "code",
   "execution_count": 13,
   "metadata": {
    "scrolled": false
   },
   "outputs": [
    {
     "name": "stdout",
     "output_type": "stream",
     "text": [
      "<class 'pandas.core.frame.DataFrame'>\n",
      "RangeIndex: 5048408 entries, 0 to 5048407\n",
      "Data columns (total 32 columns):\n",
      "BenefitName            category\n",
      "BusinessYear           int64\n",
      "CoinsInnTier1          category\n",
      "CoinsInnTier2          category\n",
      "CoinsOutofNet          category\n",
      "CopayInnTier1          category\n",
      "CopayInnTier2          category\n",
      "CopayOutofNet          category\n",
      "EHBVarReason           category\n",
      "Exclusions             category\n",
      "Explanation            category\n",
      "ImportDate             category\n",
      "IsCovered              category\n",
      "IsEHB                  category\n",
      "IsExclFromInnMOOP      category\n",
      "IsExclFromOonMOOP      category\n",
      "IsStateMandate         category\n",
      "IsSubjToDedTier1       category\n",
      "IsSubjToDedTier2       category\n",
      "IssuerId               int64\n",
      "IssuerId2              int64\n",
      "LimitQty               float64\n",
      "LimitUnit              category\n",
      "MinimumStay            float64\n",
      "PlanId                 category\n",
      "QuantLimitOnSvc        category\n",
      "RowNumber              int64\n",
      "SourceName             category\n",
      "StandardComponentId    category\n",
      "StateCode              category\n",
      "StateCode2             category\n",
      "VersionNum             int64\n",
      "dtypes: category(25), float64(2), int64(5)\n",
      "memory usage: 453.4 MB\n"
     ]
    }
   ],
   "source": [
    "benefits.info(memory_usage='deep')"
   ]
  },
  {
   "cell_type": "code",
   "execution_count": 12,
   "metadata": {},
   "outputs": [],
   "source": [
    "# with open('../pickles/benefits.pkl', 'wb') as file:\n",
    "#     pickle.dump(benefits, file)"
   ]
  }
 ],
 "metadata": {
  "kernelspec": {
   "display_name": "Python 3",
   "language": "python",
   "name": "python3"
  },
  "language_info": {
   "codemirror_mode": {
    "name": "ipython",
    "version": 3
   },
   "file_extension": ".py",
   "mimetype": "text/x-python",
   "name": "python",
   "nbconvert_exporter": "python",
   "pygments_lexer": "ipython3",
   "version": "3.6.5"
  }
 },
 "nbformat": 4,
 "nbformat_minor": 2
}
