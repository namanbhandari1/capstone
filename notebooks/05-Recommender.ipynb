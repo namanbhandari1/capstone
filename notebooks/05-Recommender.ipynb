{
 "cells": [
  {
   "cell_type": "markdown",
   "metadata": {},
   "source": [
    "# Similarity of plans\n",
    "\n",
    "In this notebook, I will ask users to select plan benefits that are most important to them and create a vector based on those selections. This vector object is the primary mechanism of comparison for plans. These vectors can just be thought of as geometrical vectors, and so should have an angle between them. This angle is precisely the quantity which the similarity score we will use, cosine similarity, implicitly measures. Two vectors have a higher similarity score when the angle between them is smaller.\n",
    "\n",
    "I will compare this user-generated vector with the unique plan vectors available in our `no_dupes` dataframe to analyze their similarity. When we talk about whether or not two plans are similar, we're really talking about the similarity of the vectors. \n",
    "\n",
    "I use numpy to perform efficient numerical matrix operations and some sorting. I use the tkinter library to obtain user input via a GUI.\n",
    "\n",
    "# Outcome\n",
    "\n",
    "This recommender system could be useful to a benefits broker as a proprietary tool used to help clients select a health plan that is best suited to their companies.\n",
    "\n",
    "This recommender system could also be used by an HR manager at a company to self-select plans based on the features selected in the health plan.\n",
    "\n",
    "The recommender systems alleviates certain difficulties in selecting plans based on features. Most websites allow users to compare plans on price only. However, the features that are included or excluded from low price plans, as compared to high price plans, may be unclear."
   ]
  },
  {
   "cell_type": "code",
   "execution_count": 1,
   "metadata": {},
   "outputs": [],
   "source": [
    "import pandas as pd\n",
    "import numpy as np\n",
    "\n",
    "from sklearn.metrics.pairwise import cosine_similarity\n",
    "\n",
    "import pickle\n",
    "from tabulate import tabulate\n",
    "\n",
    "import seaborn as sns\n",
    "import matplotlib.pyplot as plt\n",
    "%matplotlib inline"
   ]
  },
  {
   "cell_type": "code",
   "execution_count": 2,
   "metadata": {},
   "outputs": [],
   "source": [
    "with open ('../pickles/df.pkl', 'rb') as pkl:\n",
    "    df = pickle.load(pkl)"
   ]
  },
  {
   "cell_type": "code",
   "execution_count": 5,
   "metadata": {},
   "outputs": [],
   "source": [
    "with open ('../pickles/ben_cols_dum.pkl', 'rb') as pkl:\n",
    "    ben_cols_dum = pickle.load(pkl)"
   ]
  },
  {
   "cell_type": "code",
   "execution_count": 14,
   "metadata": {},
   "outputs": [],
   "source": [
    "test = df.drop(columns=ben_cols_dum)"
   ]
  },
  {
   "cell_type": "code",
   "execution_count": 16,
   "metadata": {},
   "outputs": [],
   "source": [
    "test[test.select_dtypes(['object']).columns] = test.select_dtypes(['object']).apply(lambda x: x.astype('category'))"
   ]
  },
  {
   "cell_type": "code",
   "execution_count": 17,
   "metadata": {},
   "outputs": [
    {
     "name": "stdout",
     "output_type": "stream",
     "text": [
      "<class 'pandas.core.frame.DataFrame'>\n",
      "Int64Index: 3977375 entries, 0 to 3977374\n",
      "Data columns (total 26 columns):\n",
      "BusinessYear                                 int64\n",
      "StateCode                                    category\n",
      "RateEffectiveDate                            category\n",
      "RateExpirationDate                           category\n",
      "PlanId                                       category\n",
      "RatingAreaId                                 category\n",
      "Tobacco                                      category\n",
      "Age                                          category\n",
      "IndividualRate                               float64\n",
      "IndividualTobaccoRate                        float64\n",
      "Couple                                       float64\n",
      "PrimarySubscriberAndOneDependent             float64\n",
      "PrimarySubscriberAndTwoDependents            float64\n",
      "PrimarySubscriberAndThreeOrMoreDependents    float64\n",
      "CoupleAndOneDependent                        float64\n",
      "CoupleAndTwoDependents                       float64\n",
      "CoupleAndThreeOrMoreDependents               float64\n",
      "RowNumber                                    int64\n",
      "IsNoticeRequiredForPregnancy                 category\n",
      "IsReferralRequiredForSpecialist              category\n",
      "ChildOnlyOffering                            category\n",
      "WellnessProgramOffered                       category\n",
      "DiseaseManagementProgramsOffered             category\n",
      "OutOfCountryCoverage                         category\n",
      "NationalNetwork                              category\n",
      "ben_key                                      int64\n",
      "dtypes: category(14), float64(9), int64(3)\n",
      "memory usage: 611.8 MB\n"
     ]
    }
   ],
   "source": [
    "test.info()"
   ]
  },
  {
   "cell_type": "code",
   "execution_count": 3,
   "metadata": {},
   "outputs": [],
   "source": [
    "with open ('../pickles/rate_cols.pkl', 'rb') as pkl:\n",
    "    rate_cols = pickle.load(pkl)\n",
    "    excl = ['BusinessYear', 'RateEffectiveDate', 'RateExpirationDate', 'RowNumber']\n",
    "    rate_cols = [col for col in rate_cols if col not in excl]"
   ]
  },
  {
   "cell_type": "code",
   "execution_count": 4,
   "metadata": {},
   "outputs": [],
   "source": [
    "exclude = ['BusinessYear',\n",
    "'StateCode',\n",
    "'RateEffectiveDate',\n",
    "'RateExpirationDate',\n",
    "'PlanId',\n",
    "'RatingAreaId',\n",
    "'Tobacco',\n",
    "'Age',\n",
    "'IndividualRate',\n",
    "'IndividualTobaccoRate',\n",
    "'Couple',\n",
    "'PrimarySubscriberAndOneDependent',\n",
    "'PrimarySubscriberAndTwoDependents',\n",
    "'PrimarySubscriberAndThreeOrMoreDependents',\n",
    "'CoupleAndOneDependent',\n",
    "'CoupleAndTwoDependents',\n",
    "'CoupleAndThreeOrMoreDependents',\n",
    "'RowNumber',\n",
    "'IsNoticeRequiredForPregnancy',\n",
    "'IsReferralRequiredForSpecialist',\n",
    "'ChildOnlyOffering',\n",
    "'WellnessProgramOffered',\n",
    "'DiseaseManagementProgramsOffered',\n",
    "'OutOfCountryCoverage',\n",
    "'NationalNetwork',\n",
    "'ben_key']"
   ]
  },
  {
   "cell_type": "markdown",
   "metadata": {},
   "source": [
    "## Filter the data\n",
    "\n",
    "Below, users can filter by a couple of parameters, as follows:\n",
    "\n",
    "- `'Age'`\n",
    "- `'Tobacco User'`\n",
    "- `'State'`\n",
    "\n",
    "Other filters the user can select for include:\n",
    "\n",
    "- `'IsNoticeRequiredForPregnancy'`: Yes / No / No Preference\n",
    "- `'IsReferralRequiredForSpecialist'`: Yes / No / No Preference\n",
    "- `'ChildOnlyOffering'`: Allows Child-Only, Allows Adult and Child-Only\n",
    "- `'WellnessProgramOffered'`: Yes / No / No Preference\n",
    "- `'OutOfCountryCoverage'`: Yes / No\n",
    "- `'NationalNetwork'`: Yes / No"
   ]
  },
  {
   "cell_type": "code",
   "execution_count": 5,
   "metadata": {},
   "outputs": [],
   "source": [
    "def filter_plans(age, tobacco, state):\n",
    "\n",
    "    \"\"\"\n",
    "    Certain states with their own\n",
    "    exchanges, such as CA and NY,\n",
    "    are missing from this filter.\n",
    "    \"\"\"\n",
    "\n",
    "    if tobacco == 'yes':\n",
    "        filtered_df = df[(df['Age'] == age) &\n",
    "                         (df['IndividualTobaccoRate'].notnull()) &\n",
    "                         (df['StateCode'] == state)]\n",
    "    elif tobacco == 'no_pref':\n",
    "        filtered_df = df[(df['Age'] == age) &\n",
    "                         (df['StateCode'] == state)]\n",
    "    return filtered_df"
   ]
  },
  {
   "cell_type": "markdown",
   "metadata": {},
   "source": [
    "Below are the additional criteria on which users can filter, with all available choices."
   ]
  },
  {
   "cell_type": "code",
   "execution_count": 6,
   "metadata": {},
   "outputs": [],
   "source": [
    "other_feats = {\n",
    "'IsNoticeRequiredForPregnancy': [None, 'Yes', 'No'],\n",
    "'IsReferralRequiredForSpecialist': [None, 'Yes', 'No'],\n",
    "'ChildOnlyOffering': ['Allows Child-Only', 'Allows Adult and Child-Only'],\n",
    "'WellnessProgramOffered': [None, 'Yes', 'No'],\n",
    "'OutOfCountryCoverage': ['Yes', 'No'],\n",
    "'NationalNetwork': ['No', 'Yes', 'YEs']\n",
    "}"
   ]
  },
  {
   "cell_type": "code",
   "execution_count": 7,
   "metadata": {},
   "outputs": [],
   "source": [
    "other_feats_key = list(other_feats.keys())"
   ]
  },
  {
   "cell_type": "code",
   "execution_count": 8,
   "metadata": {},
   "outputs": [],
   "source": [
    "def addl_filter(feats = other_feats):\n",
    "    filtered_df = filter_plans('30', 'yes', 'AZ')\n",
    "    for feat in feats:\n",
    "        filtered_df = filtered_df[filtered_df[feat].isin(feats[feat])]\n",
    "    return filtered_df"
   ]
  },
  {
   "cell_type": "markdown",
   "metadata": {},
   "source": [
    "Below, users can customize to include only those choices they are interested in, and then run the `addl_filter` function and pass `my_feats` as a parameter."
   ]
  },
  {
   "cell_type": "code",
   "execution_count": 9,
   "metadata": {},
   "outputs": [],
   "source": [
    "my_feats = {\n",
    "'IsNoticeRequiredForPregnancy': [None, 'Yes', 'No'],\n",
    "'IsReferralRequiredForSpecialist': [None, 'Yes', 'No'],\n",
    "'ChildOnlyOffering': ['Allows Child-Only', 'Allows Adult and Child-Only'],\n",
    "'WellnessProgramOffered': [None, 'Yes', 'No'],\n",
    "'OutOfCountryCoverage': ['Yes', 'No'],\n",
    "'NationalNetwork': ['No', 'Yes', 'YEs']\n",
    "}"
   ]
  },
  {
   "cell_type": "code",
   "execution_count": 10,
   "metadata": {},
   "outputs": [],
   "source": [
    "df_filt = addl_filter(my_feats)"
   ]
  },
  {
   "cell_type": "markdown",
   "metadata": {},
   "source": [
    "Below, I'm creating a list of benefits that are available for selection based on the `df_filt` from above. This list will be passed into the `tkinter` GUI which will allow users to select from benefits that are actually, verifiably available from the plans they filtered for."
   ]
  },
  {
   "cell_type": "code",
   "execution_count": 11,
   "metadata": {},
   "outputs": [],
   "source": [
    "ben_cols_dum = [col for col in df_filt.columns if col not in exclude]"
   ]
  },
  {
   "cell_type": "code",
   "execution_count": 12,
   "metadata": {},
   "outputs": [],
   "source": [
    "ben_cols_dum = [col for col in ben_cols_dum if df_filt[col].sum() != 0]"
   ]
  },
  {
   "cell_type": "markdown",
   "metadata": {},
   "source": [
    "## Filtering by unique plan vectors: `no_dupes`\n",
    "\n",
    "In a previous notebook, I created a matrix of vectors (called `no_dupes`) in which each vector represented a unique combination of available benefits. No two vectors are the same (however, a particular vector can represent many different types of plans).\n",
    "\n",
    "Below, I will condense the `no_dupes` matrix to only those plans available based on the filtering performed above.\n",
    "\n",
    "As you will see, we start off with 215 rows in `no_dupes` (representing 215 unique plan vectors), but after filtering, we are left with far fewer unique plans (the specific amount that remain depends on the filtering criteria from above)."
   ]
  },
  {
   "cell_type": "code",
   "execution_count": 13,
   "metadata": {},
   "outputs": [],
   "source": [
    "with open ('../pickles/no_dupes.pkl', 'rb') as pkl:\n",
    "    no_dupes = pickle.load(pkl)"
   ]
  },
  {
   "cell_type": "code",
   "execution_count": 14,
   "metadata": {},
   "outputs": [
    {
     "data": {
      "text/plain": [
       "(215, 207)"
      ]
     },
     "execution_count": 14,
     "metadata": {},
     "output_type": "execute_result"
    }
   ],
   "source": [
    "no_dupes.shape"
   ]
  },
  {
   "cell_type": "code",
   "execution_count": 15,
   "metadata": {},
   "outputs": [],
   "source": [
    "unique_keys = list(df_filt['ben_key'].unique())"
   ]
  },
  {
   "cell_type": "code",
   "execution_count": 16,
   "metadata": {},
   "outputs": [
    {
     "data": {
      "text/plain": [
       "[214, 68, 8, 86, 6, 156, 7, 157]"
      ]
     },
     "execution_count": 16,
     "metadata": {},
     "output_type": "execute_result"
    }
   ],
   "source": [
    "unique_keys"
   ]
  },
  {
   "cell_type": "code",
   "execution_count": 17,
   "metadata": {},
   "outputs": [],
   "source": [
    "no_dupes = no_dupes[no_dupes.index.isin(unique_keys)]"
   ]
  },
  {
   "cell_type": "code",
   "execution_count": 18,
   "metadata": {
    "scrolled": true
   },
   "outputs": [
    {
     "data": {
      "text/plain": [
       "(8, 207)"
      ]
     },
     "execution_count": 18,
     "metadata": {},
     "output_type": "execute_result"
    }
   ],
   "source": [
    "no_dupes.shape"
   ]
  },
  {
   "cell_type": "markdown",
   "metadata": {},
   "source": [
    "Below, I am storing the column names and indexes of the filtered dataframe `df_filt` and converting it into a NumPy array for efficient computation. I will use the dictionaries later as a lookup into the NumPy array."
   ]
  },
  {
   "cell_type": "code",
   "execution_count": 19,
   "metadata": {},
   "outputs": [],
   "source": [
    "col_dict = dict(zip(no_dupes.columns, range(len(no_dupes.columns))))"
   ]
  },
  {
   "cell_type": "code",
   "execution_count": 20,
   "metadata": {},
   "outputs": [],
   "source": [
    "ind_dict = dict(zip(range(len(no_dupes)), no_dupes.index))"
   ]
  },
  {
   "cell_type": "code",
   "execution_count": 21,
   "metadata": {},
   "outputs": [],
   "source": [
    "no_dupes_mat = np.asarray(no_dupes)"
   ]
  },
  {
   "cell_type": "markdown",
   "metadata": {},
   "source": [
    "## Generate a unique plan\n",
    "\n",
    "Using tkinter, Python's inbuilt GUI, I ask users to select the features they would like in their plan, and create a vector based on those selected features. Any benefits that are not selected are treated homogeneously and equal to all other un-selected features, so no information is \"lost\"."
   ]
  },
  {
   "cell_type": "code",
   "execution_count": 22,
   "metadata": {
    "scrolled": true
   },
   "outputs": [
    {
     "name": "stdout",
     "output_type": "stream",
     "text": [
      "Autism Spectrum Disorders\n",
      "Chiropractic Care\n",
      "Cosmetic Surgery\n",
      "Delivery and All Inpatient Services for Maternity Care\n",
      "['Autism Spectrum Disorders', 'Chiropractic Care', 'Cosmetic Surgery', 'Delivery and All Inpatient Services for Maternity Care']\n",
      "['Autism Spectrum Disorders', 'Chiropractic Care', 'Cosmetic Surgery', 'Delivery and All Inpatient Services for Maternity Care', 'Autism Spectrum Disorders', 'Chiropractic Care', 'Cosmetic Surgery', 'Delivery and All Inpatient Services for Maternity Care']\n"
     ]
    }
   ],
   "source": [
    "from tkinter import *\n",
    "import tkinter as tk\n",
    "\n",
    "# ----- Section: functions -----\n",
    "\n",
    "sel_feats = []\n",
    "\n",
    "def on_keyrelease(event):\n",
    "\n",
    "    # get text from entry\n",
    "    value = event.widget.get()\n",
    "    value = value.strip().lower()\n",
    "\n",
    "    # get data from test_list\n",
    "    if value == '':\n",
    "        data = test_list\n",
    "    else:\n",
    "        data = []\n",
    "        for item in test_list:\n",
    "            if value in item.lower():\n",
    "                data.append(item)                \n",
    "\n",
    "    # update data in listbox\n",
    "    listbox_update(data)\n",
    "\n",
    "\n",
    "def listbox_update(data):\n",
    "    # delete previous data\n",
    "    l1.delete(0, 'end')\n",
    "\n",
    "    # sorting data \n",
    "    data = sorted(data, key=str.lower)\n",
    "\n",
    "    # put new data\n",
    "    for item in data:\n",
    "        l1.insert('end', item)\n",
    "\n",
    "def onselect(event):\n",
    "    selection = l1.curselection()\n",
    "    for i in selection:\n",
    "        entry = l1.get(i)\n",
    "        l2.insert(END, entry)\n",
    "        print(l1.get(i))\n",
    "        \n",
    "def submit(event):\n",
    "    content = l2.get(0, tk.END)\n",
    "    for i in content:\n",
    "        sel_feats.append(i)\n",
    "    print(sel_feats)\n",
    "\n",
    "# ----- Section: code -----\n",
    "\n",
    "test_list = ben_cols_dum\n",
    "\n",
    "root = Tk()\n",
    "\n",
    "label = Label(root, text=\"Type below!\")\n",
    "label.pack(side=TOP)\n",
    "\n",
    "entry = Entry(root,\n",
    "             width=40)\n",
    "entry.pack(side=TOP)\n",
    "entry.bind('<KeyRelease>', on_keyrelease)\n",
    "\n",
    "l1 = Listbox(root, \n",
    "             selectmode=MULTIPLE, \n",
    "             width=40, \n",
    "             height=10)\n",
    "l1.pack(padx=20, pady=20)\n",
    "listbox_update(test_list)\n",
    "\n",
    "btn = Button(root, text=\"Add\")\n",
    "btn.pack()\n",
    "btn.bind('<Button-1>', onselect)\n",
    "\n",
    "l2 = Listbox(root, width=40, height=10)\n",
    "l2.pack(padx=20, pady=20)\n",
    "\n",
    "btn = Button(root, text=\"Submit\")\n",
    "btn.pack()\n",
    "btn.bind('<Button-1>', submit)\n",
    "\n",
    "root.mainloop()"
   ]
  },
  {
   "cell_type": "code",
   "execution_count": 23,
   "metadata": {},
   "outputs": [],
   "source": [
    "sel_feats = list(set(sel_feats))"
   ]
  },
  {
   "cell_type": "code",
   "execution_count": 24,
   "metadata": {},
   "outputs": [],
   "source": [
    "ben_vec = np.zeros(no_dupes_mat.shape[1])"
   ]
  },
  {
   "cell_type": "markdown",
   "metadata": {},
   "source": [
    "Below, I fill in \"1s\" in my NumPy matrix corresponding to the features selected by the user."
   ]
  },
  {
   "cell_type": "code",
   "execution_count": 25,
   "metadata": {},
   "outputs": [
    {
     "data": {
      "text/plain": [
       "['Chiropractic Care',\n",
       " 'Autism Spectrum Disorders',\n",
       " 'Cosmetic Surgery',\n",
       " 'Delivery and All Inpatient Services for Maternity Care']"
      ]
     },
     "execution_count": 25,
     "metadata": {},
     "output_type": "execute_result"
    }
   ],
   "source": [
    "sel_feats"
   ]
  },
  {
   "cell_type": "code",
   "execution_count": 26,
   "metadata": {},
   "outputs": [],
   "source": [
    "for benefit in sel_feats:\n",
    "    ben_vec[col_dict[benefit]] = 1"
   ]
  },
  {
   "cell_type": "code",
   "execution_count": 27,
   "metadata": {},
   "outputs": [],
   "source": [
    "ben_vec = np.reshape(ben_vec, (1, -1))"
   ]
  },
  {
   "cell_type": "code",
   "execution_count": 28,
   "metadata": {},
   "outputs": [
    {
     "data": {
      "text/plain": [
       "(1, 207)"
      ]
     },
     "execution_count": 28,
     "metadata": {},
     "output_type": "execute_result"
    }
   ],
   "source": [
    "ben_vec.shape"
   ]
  },
  {
   "cell_type": "markdown",
   "metadata": {},
   "source": [
    "## Find cosine similarity between `ben_vec` and `no_dupes`"
   ]
  },
  {
   "cell_type": "code",
   "execution_count": 29,
   "metadata": {},
   "outputs": [],
   "source": [
    "cos_mat = cosine_similarity(ben_vec, no_dupes_mat)"
   ]
  },
  {
   "cell_type": "code",
   "execution_count": 30,
   "metadata": {},
   "outputs": [],
   "source": [
    "i = 0\n",
    "top_matches = []\n",
    "for item in cos_mat[0]:\n",
    "    if item == 0:\n",
    "        pass\n",
    "    else:\n",
    "        top_matches.append([item, ind_dict[i]])\n",
    "    i += 1\n",
    "top_matches.sort(reverse=True)"
   ]
  },
  {
   "cell_type": "markdown",
   "metadata": {},
   "source": [
    "Below are the plans that best match the user's selected criteria."
   ]
  },
  {
   "cell_type": "code",
   "execution_count": 31,
   "metadata": {},
   "outputs": [
    {
     "name": "stdout",
     "output_type": "stream",
     "text": [
      "Ben_keys most similar to ben_vec: [214, 7, 8, 86, 157, 156, 6, 68]\n"
     ]
    }
   ],
   "source": [
    "print(\"Ben_keys most similar to ben_vec:\", [b for a, b in top_matches])"
   ]
  },
  {
   "cell_type": "markdown",
   "metadata": {},
   "source": [
    "## View plan details\n",
    "\n",
    "Below, the user can run a couple of functions to view additional details about his select plan and plan variants."
   ]
  },
  {
   "cell_type": "code",
   "execution_count": 32,
   "metadata": {},
   "outputs": [
    {
     "name": "stdout",
     "output_type": "stream",
     "text": [
      "\n",
      " Using the list below, please find the Index # of the plan variant you would like to view.\n",
      "+----------------+--------------+-----------+\n",
      "|   Plan Variant |   Similarity |   Index # |\n",
      "+================+==============+===========+\n",
      "|            214 |     0.235702 |         0 |\n",
      "+----------------+--------------+-----------+\n",
      "|              7 |     0.200446 |         1 |\n",
      "+----------------+--------------+-----------+\n",
      "|              8 |     0.19696  |         2 |\n",
      "+----------------+--------------+-----------+\n",
      "|             86 |     0.1905   |         3 |\n",
      "+----------------+--------------+-----------+\n",
      "|            157 |     0.181902 |         4 |\n",
      "+----------------+--------------+-----------+\n",
      "|            156 |     0.181902 |         5 |\n",
      "+----------------+--------------+-----------+\n",
      "|              6 |     0.138675 |         6 |\n",
      "+----------------+--------------+-----------+\n",
      "|             68 |     0.13484  |         7 |\n",
      "+----------------+--------------+-----------+\n"
     ]
    }
   ],
   "source": [
    "print(\"\\n\", \"Using the list below, please find the Index # of the plan variant you would like to view.\")\n",
    "print(tabulate(\n",
    "    [[top_matches[i][1], top_matches[i][0], i] for i in range(len(top_matches))], \n",
    "    [\"Plan Variant\", \"Similarity\", \"Index #\"], \n",
    "    tablefmt=\"grid\"\n",
    "))\n"
   ]
  },
  {
   "cell_type": "markdown",
   "metadata": {},
   "source": [
    "Below, please enter your selected Index # in the `covered_feats` function, which will allow you to see the features that are covered in the plan variant:"
   ]
  },
  {
   "cell_type": "code",
   "execution_count": 33,
   "metadata": {},
   "outputs": [
    {
     "data": {
      "image/png": "[encoded data removed]",
      "text/plain": [
       "<Figure size 432x288 with 1 Axes>"
      ]
     },
     "metadata": {},
     "output_type": "display_data"
    }
   ],
   "source": [
    "def covered_feats(index):\n",
    "    # Get covered features in dataframe\n",
    "    feat_coverage = df_filt[df_filt['ben_key'] == top_matches[index][1]][sel_feats].head(10)\n",
    "\n",
    "    # Plot the features\n",
    "    x = list(feat_coverage.columns)\n",
    "    coverage = [1 if feat_coverage[i].sum() > 0 else 0.01 for i in list(feat_coverage.columns)]\n",
    "    colors = ['b', 'g', 'r', 'c', 'm', 'y', 'g']\n",
    "\n",
    "    x_pos = [i for i, _ in enumerate(x)]\n",
    "\n",
    "    plt.barh(x_pos, coverage, color='green')\n",
    "    plt.ylabel(\"Benefit Name\")\n",
    "    plt.title(\"Feature availability in selected plan variant\")\n",
    "\n",
    "    plt.yticks(x_pos, x)\n",
    "    plt.xticks(np.arange(2), ('Not Available', 'Available'))\n",
    "\n",
    "    plt.show()\n",
    "    return feat_coverage\n",
    "feat_coverage = covered_feats(3)"
   ]
  },
  {
   "cell_type": "markdown",
   "metadata": {},
   "source": [
    "Below, please enter the index number in the `matching_plans` function corresponding to the plan variant you would like to view. This function will then show you all the available plans in that plan variant."
   ]
  },
  {
   "cell_type": "code",
   "execution_count": 34,
   "metadata": {},
   "outputs": [
    {
     "name": "stdout",
     "output_type": "stream",
     "text": [
      "\n",
      " There are 6 plans available for selection:\n"
     ]
    },
    {
     "data": {
      "text/html": [
       "<div>\n",
       "<style scoped>\n",
       "    .dataframe tbody tr th:only-of-type {\n",
       "        vertical-align: middle;\n",
       "    }\n",
       "\n",
       "    .dataframe tbody tr th {\n",
       "        vertical-align: top;\n",
       "    }\n",
       "\n",
       "    .dataframe thead th {\n",
       "        text-align: right;\n",
       "    }\n",
       "</style>\n",
       "<table border=\"1\" class=\"dataframe\">\n",
       "  <thead>\n",
       "    <tr style=\"text-align: right;\">\n",
       "      <th></th>\n",
       "      <th>StateCode</th>\n",
       "      <th>PlanId</th>\n",
       "      <th>RatingAreaId</th>\n",
       "      <th>Tobacco</th>\n",
       "      <th>Age</th>\n",
       "      <th>IndividualRate</th>\n",
       "      <th>IndividualTobaccoRate</th>\n",
       "    </tr>\n",
       "  </thead>\n",
       "  <tbody>\n",
       "    <tr>\n",
       "      <th>114110</th>\n",
       "      <td>AZ</td>\n",
       "      <td>65441AZ0080002</td>\n",
       "      <td>Rating Area 4</td>\n",
       "      <td>Tobacco User/Non-Tobacco User</td>\n",
       "      <td>30</td>\n",
       "      <td>196.95</td>\n",
       "      <td>206.79</td>\n",
       "    </tr>\n",
       "    <tr>\n",
       "      <th>114156</th>\n",
       "      <td>AZ</td>\n",
       "      <td>65441AZ0060002</td>\n",
       "      <td>Rating Area 4</td>\n",
       "      <td>Tobacco User/Non-Tobacco User</td>\n",
       "      <td>30</td>\n",
       "      <td>203.57</td>\n",
       "      <td>213.74</td>\n",
       "    </tr>\n",
       "    <tr>\n",
       "      <th>114340</th>\n",
       "      <td>AZ</td>\n",
       "      <td>65441AZ0100001</td>\n",
       "      <td>Rating Area 4</td>\n",
       "      <td>Tobacco User/Non-Tobacco User</td>\n",
       "      <td>30</td>\n",
       "      <td>233.21</td>\n",
       "      <td>244.87</td>\n",
       "    </tr>\n",
       "    <tr>\n",
       "      <th>114386</th>\n",
       "      <td>AZ</td>\n",
       "      <td>65441AZ0080001</td>\n",
       "      <td>Rating Area 4</td>\n",
       "      <td>Tobacco User/Non-Tobacco User</td>\n",
       "      <td>30</td>\n",
       "      <td>236.53</td>\n",
       "      <td>248.36</td>\n",
       "    </tr>\n",
       "    <tr>\n",
       "      <th>114432</th>\n",
       "      <td>AZ</td>\n",
       "      <td>65441AZ0060001</td>\n",
       "      <td>Rating Area 4</td>\n",
       "      <td>Tobacco User/Non-Tobacco User</td>\n",
       "      <td>30</td>\n",
       "      <td>245.03</td>\n",
       "      <td>257.28</td>\n",
       "    </tr>\n",
       "  </tbody>\n",
       "</table>\n",
       "</div>"
      ],
      "text/plain": [
       "       StateCode          PlanId   RatingAreaId  \\\n",
       "114110        AZ  65441AZ0080002  Rating Area 4   \n",
       "114156        AZ  65441AZ0060002  Rating Area 4   \n",
       "114340        AZ  65441AZ0100001  Rating Area 4   \n",
       "114386        AZ  65441AZ0080001  Rating Area 4   \n",
       "114432        AZ  65441AZ0060001  Rating Area 4   \n",
       "\n",
       "                              Tobacco Age  IndividualRate  \\\n",
       "114110  Tobacco User/Non-Tobacco User  30          196.95   \n",
       "114156  Tobacco User/Non-Tobacco User  30          203.57   \n",
       "114340  Tobacco User/Non-Tobacco User  30          233.21   \n",
       "114386  Tobacco User/Non-Tobacco User  30          236.53   \n",
       "114432  Tobacco User/Non-Tobacco User  30          245.03   \n",
       "\n",
       "        IndividualTobaccoRate  \n",
       "114110                 206.79  \n",
       "114156                 213.74  \n",
       "114340                 244.87  \n",
       "114386                 248.36  \n",
       "114432                 257.28  "
      ]
     },
     "execution_count": 34,
     "metadata": {},
     "output_type": "execute_result"
    }
   ],
   "source": [
    "def matching_plans(index):\n",
    "    matches = df_filt[df_filt['ben_key'] == top_matches[index][1]][rate_cols].dropna(axis=1)\n",
    "    print(\"\\n\", \"There are\", matches.shape[0], \"plans available for selection:\")\n",
    "    return matches\n",
    "matches = matching_plans(3).sort_values('IndividualRate')\n",
    "matches.tail()"
   ]
  },
  {
   "cell_type": "markdown",
   "metadata": {},
   "source": [
    "The below shows the user the price by `'RatingAreaId'` - with some areas in the state more expensive than others."
   ]
  },
  {
   "cell_type": "code",
   "execution_count": 35,
   "metadata": {},
   "outputs": [
    {
     "data": {
      "text/html": [
       "<div>\n",
       "<style scoped>\n",
       "    .dataframe tbody tr th:only-of-type {\n",
       "        vertical-align: middle;\n",
       "    }\n",
       "\n",
       "    .dataframe tbody tr th {\n",
       "        vertical-align: top;\n",
       "    }\n",
       "\n",
       "    .dataframe thead th {\n",
       "        text-align: right;\n",
       "    }\n",
       "</style>\n",
       "<table border=\"1\" class=\"dataframe\">\n",
       "  <thead>\n",
       "    <tr style=\"text-align: right;\">\n",
       "      <th></th>\n",
       "      <th>IndividualRate</th>\n",
       "      <th>IndividualTobaccoRate</th>\n",
       "    </tr>\n",
       "    <tr>\n",
       "      <th>RatingAreaId</th>\n",
       "      <th></th>\n",
       "      <th></th>\n",
       "    </tr>\n",
       "  </thead>\n",
       "  <tbody>\n",
       "    <tr>\n",
       "      <th>Rating Area 4</th>\n",
       "      <td>218.118333</td>\n",
       "      <td>229.021667</td>\n",
       "    </tr>\n",
       "  </tbody>\n",
       "</table>\n",
       "</div>"
      ],
      "text/plain": [
       "               IndividualRate  IndividualTobaccoRate\n",
       "RatingAreaId                                        \n",
       "Rating Area 4      218.118333             229.021667"
      ]
     },
     "execution_count": 35,
     "metadata": {},
     "output_type": "execute_result"
    }
   ],
   "source": [
    "matches.groupby('RatingAreaId').mean().dropna().sort_values('IndividualRate')"
   ]
  },
  {
   "cell_type": "code",
   "execution_count": 36,
   "metadata": {},
   "outputs": [],
   "source": [
    "## Figure out cost of plans like mine in other states"
   ]
  },
  {
   "cell_type": "code",
   "execution_count": 37,
   "metadata": {},
   "outputs": [],
   "source": [
    "with open ('../pickles/attributes.pkl', 'rb') as pkl:\n",
    "    attributes = pickle.load(pkl)"
   ]
  },
  {
   "cell_type": "code",
   "execution_count": 38,
   "metadata": {},
   "outputs": [],
   "source": [
    "attr_exclude = [\n",
    "    'AVCalculatorOutputNumber',\n",
    "    'BusinessYear',\n",
    "    'CompositeRatingOffered',\n",
    "    'EHBPercentTotalPremium',\n",
    "    'FormularyId',\n",
    "    'HIOSProductId',\n",
    "    'HPID',\n",
    "    'ImportDate',\n",
    "    'IndianPlanVariationEstimatedAdvancedPaymentAmountPerEnrollee',\n",
    "    'IssuerId',\n",
    "    'IssuerId2',\n",
    "    'NetworkId',\n",
    "    'SourceName',\n",
    "    'QHPNonQHPTypeId',\n",
    "    'PlanEffictiveDate',\n",
    "    'PlanExpirationDate',\n",
    "    'RowNumber',\n",
    "    'ServiceAreaId',\n",
    "    'TIN',\n",
    "    'VersionNum',\n",
    "    'StateCode2'\n",
    "]\n",
    "attribute_cols = [col for col in list(attributes.columns) if col not in attr_exclude]"
   ]
  },
  {
   "cell_type": "code",
   "execution_count": 45,
   "metadata": {},
   "outputs": [
    {
     "data": {
      "text/html": [
       "<div>\n",
       "<style scoped>\n",
       "    .dataframe tbody tr th:only-of-type {\n",
       "        vertical-align: middle;\n",
       "    }\n",
       "\n",
       "    .dataframe tbody tr th {\n",
       "        vertical-align: top;\n",
       "    }\n",
       "\n",
       "    .dataframe thead th {\n",
       "        text-align: right;\n",
       "    }\n",
       "</style>\n",
       "<table border=\"1\" class=\"dataframe\">\n",
       "  <thead>\n",
       "    <tr style=\"text-align: right;\">\n",
       "      <th></th>\n",
       "      <th>50747</th>\n",
       "    </tr>\n",
       "  </thead>\n",
       "  <tbody>\n",
       "    <tr>\n",
       "      <th>IsNoticeRequiredForPregnancy</th>\n",
       "      <td>No</td>\n",
       "    </tr>\n",
       "    <tr>\n",
       "      <th>IsReferralRequiredForSpecialist</th>\n",
       "      <td>Yes</td>\n",
       "    </tr>\n",
       "    <tr>\n",
       "      <th>ChildOnlyOffering</th>\n",
       "      <td>Allows Adult and Child-Only</td>\n",
       "    </tr>\n",
       "    <tr>\n",
       "      <th>WellnessProgramOffered</th>\n",
       "      <td>No</td>\n",
       "    </tr>\n",
       "    <tr>\n",
       "      <th>OutOfCountryCoverage</th>\n",
       "      <td>Yes</td>\n",
       "    </tr>\n",
       "    <tr>\n",
       "      <th>NationalNetwork</th>\n",
       "      <td>No</td>\n",
       "    </tr>\n",
       "  </tbody>\n",
       "</table>\n",
       "</div>"
      ],
      "text/plain": [
       "                                                       50747\n",
       "IsNoticeRequiredForPregnancy                              No\n",
       "IsReferralRequiredForSpecialist                          Yes\n",
       "ChildOnlyOffering                Allows Adult and Child-Only\n",
       "WellnessProgramOffered                                    No\n",
       "OutOfCountryCoverage                                     Yes\n",
       "NationalNetwork                                           No"
      ]
     },
     "execution_count": 45,
     "metadata": {},
     "output_type": "execute_result"
    }
   ],
   "source": [
    "def view_details(plan, view_cols=other_feats_key):\n",
    "    details = attributes[attributes['PlanId'] == plan][view_cols].T.dropna()\n",
    "    return details\n",
    "view_details('70239AZ0010054')"
   ]
  },
  {
   "cell_type": "code",
   "execution_count": 43,
   "metadata": {},
   "outputs": [
    {
     "data": {
      "text/html": [
       "<div>\n",
       "<style scoped>\n",
       "    .dataframe tbody tr th:only-of-type {\n",
       "        vertical-align: middle;\n",
       "    }\n",
       "\n",
       "    .dataframe tbody tr th {\n",
       "        vertical-align: top;\n",
       "    }\n",
       "\n",
       "    .dataframe thead th {\n",
       "        text-align: right;\n",
       "    }\n",
       "</style>\n",
       "<table border=\"1\" class=\"dataframe\">\n",
       "  <thead>\n",
       "    <tr style=\"text-align: right;\">\n",
       "      <th></th>\n",
       "      <th>50670_x</th>\n",
       "      <th>50670_y</th>\n",
       "      <th>50663</th>\n",
       "      <th>50656</th>\n",
       "      <th>50652</th>\n",
       "      <th>50648</th>\n",
       "      <th>50644</th>\n",
       "    </tr>\n",
       "  </thead>\n",
       "  <tbody>\n",
       "    <tr>\n",
       "      <th>IsNoticeRequiredForPregnancy</th>\n",
       "      <td>Yes</td>\n",
       "      <td>Yes</td>\n",
       "      <td>Yes</td>\n",
       "      <td>Yes</td>\n",
       "      <td>Yes</td>\n",
       "      <td>Yes</td>\n",
       "      <td>Yes</td>\n",
       "    </tr>\n",
       "    <tr>\n",
       "      <th>IsReferralRequiredForSpecialist</th>\n",
       "      <td>No</td>\n",
       "      <td>No</td>\n",
       "      <td>No</td>\n",
       "      <td>No</td>\n",
       "      <td>No</td>\n",
       "      <td>No</td>\n",
       "      <td>No</td>\n",
       "    </tr>\n",
       "    <tr>\n",
       "      <th>ChildOnlyOffering</th>\n",
       "      <td>Allows Adult and Child-Only</td>\n",
       "      <td>Allows Adult and Child-Only</td>\n",
       "      <td>Allows Adult and Child-Only</td>\n",
       "      <td>Allows Adult and Child-Only</td>\n",
       "      <td>Allows Adult and Child-Only</td>\n",
       "      <td>Allows Adult and Child-Only</td>\n",
       "      <td>Allows Adult and Child-Only</td>\n",
       "    </tr>\n",
       "    <tr>\n",
       "      <th>WellnessProgramOffered</th>\n",
       "      <td>No</td>\n",
       "      <td>No</td>\n",
       "      <td>No</td>\n",
       "      <td>No</td>\n",
       "      <td>No</td>\n",
       "      <td>No</td>\n",
       "      <td>No</td>\n",
       "    </tr>\n",
       "    <tr>\n",
       "      <th>OutOfCountryCoverage</th>\n",
       "      <td>Yes</td>\n",
       "      <td>Yes</td>\n",
       "      <td>Yes</td>\n",
       "      <td>Yes</td>\n",
       "      <td>Yes</td>\n",
       "      <td>Yes</td>\n",
       "      <td>Yes</td>\n",
       "    </tr>\n",
       "    <tr>\n",
       "      <th>NationalNetwork</th>\n",
       "      <td>No</td>\n",
       "      <td>No</td>\n",
       "      <td>No</td>\n",
       "      <td>No</td>\n",
       "      <td>No</td>\n",
       "      <td>No</td>\n",
       "      <td>No</td>\n",
       "    </tr>\n",
       "  </tbody>\n",
       "</table>\n",
       "</div>"
      ],
      "text/plain": [
       "                                                     50670_x  \\\n",
       "IsNoticeRequiredForPregnancy                             Yes   \n",
       "IsReferralRequiredForSpecialist                           No   \n",
       "ChildOnlyOffering                Allows Adult and Child-Only   \n",
       "WellnessProgramOffered                                    No   \n",
       "OutOfCountryCoverage                                     Yes   \n",
       "NationalNetwork                                           No   \n",
       "\n",
       "                                                     50670_y  \\\n",
       "IsNoticeRequiredForPregnancy                             Yes   \n",
       "IsReferralRequiredForSpecialist                           No   \n",
       "ChildOnlyOffering                Allows Adult and Child-Only   \n",
       "WellnessProgramOffered                                    No   \n",
       "OutOfCountryCoverage                                     Yes   \n",
       "NationalNetwork                                           No   \n",
       "\n",
       "                                                       50663  \\\n",
       "IsNoticeRequiredForPregnancy                             Yes   \n",
       "IsReferralRequiredForSpecialist                           No   \n",
       "ChildOnlyOffering                Allows Adult and Child-Only   \n",
       "WellnessProgramOffered                                    No   \n",
       "OutOfCountryCoverage                                     Yes   \n",
       "NationalNetwork                                           No   \n",
       "\n",
       "                                                       50656  \\\n",
       "IsNoticeRequiredForPregnancy                             Yes   \n",
       "IsReferralRequiredForSpecialist                           No   \n",
       "ChildOnlyOffering                Allows Adult and Child-Only   \n",
       "WellnessProgramOffered                                    No   \n",
       "OutOfCountryCoverage                                     Yes   \n",
       "NationalNetwork                                           No   \n",
       "\n",
       "                                                       50652  \\\n",
       "IsNoticeRequiredForPregnancy                             Yes   \n",
       "IsReferralRequiredForSpecialist                           No   \n",
       "ChildOnlyOffering                Allows Adult and Child-Only   \n",
       "WellnessProgramOffered                                    No   \n",
       "OutOfCountryCoverage                                     Yes   \n",
       "NationalNetwork                                           No   \n",
       "\n",
       "                                                       50648  \\\n",
       "IsNoticeRequiredForPregnancy                             Yes   \n",
       "IsReferralRequiredForSpecialist                           No   \n",
       "ChildOnlyOffering                Allows Adult and Child-Only   \n",
       "WellnessProgramOffered                                    No   \n",
       "OutOfCountryCoverage                                     Yes   \n",
       "NationalNetwork                                           No   \n",
       "\n",
       "                                                       50644  \n",
       "IsNoticeRequiredForPregnancy                             Yes  \n",
       "IsReferralRequiredForSpecialist                           No  \n",
       "ChildOnlyOffering                Allows Adult and Child-Only  \n",
       "WellnessProgramOffered                                    No  \n",
       "OutOfCountryCoverage                                     Yes  \n",
       "NationalNetwork                                           No  "
      ]
     },
     "execution_count": 43,
     "metadata": {},
     "output_type": "execute_result"
    }
   ],
   "source": [
    "compare = view_details(matches['PlanId'].iloc[0], other_feats_key)\n",
    "for plan in matches['PlanId']:\n",
    "    interim = pd.merge(compare, \n",
    "             view_details(plan, other_feats_key),\n",
    "             left_index=True,\n",
    "             right_index=True)\n",
    "    compare = interim\n",
    "compare"
   ]
  }
 ],
 "metadata": {
  "kernelspec": {
   "display_name": "Python 3",
   "language": "python",
   "name": "python3"
  },
  "language_info": {
   "codemirror_mode": {
    "name": "ipython",
    "version": 3
   },
   "file_extension": ".py",
   "mimetype": "text/x-python",
   "name": "python",
   "nbconvert_exporter": "python",
   "pygments_lexer": "ipython3",
   "version": "3.6.5"
  }
 },
 "nbformat": 4,
 "nbformat_minor": 2
}
