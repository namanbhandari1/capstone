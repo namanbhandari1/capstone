{
 "cells": [
  {
   "cell_type": "code",
   "execution_count": 1,
   "metadata": {},
   "outputs": [],
   "source": [
    "import pandas as pd\n",
    "import numpy as np\n",
    "\n",
    "import pickle\n",
    "import regex as re\n",
    "\n",
    "import matplotlib.pyplot as plt\n",
    "%matplotlib inline"
   ]
  },
  {
   "cell_type": "code",
   "execution_count": 2,
   "metadata": {},
   "outputs": [],
   "source": [
    "with open('../pickles/benefits_dum.pkl', 'rb') as benefits_dum:\n",
    "    benefits = pickle.load(benefits_dum)"
   ]
  },
  {
   "cell_type": "code",
   "execution_count": 3,
   "metadata": {},
   "outputs": [
    {
     "data": {
      "text/plain": [
       "(413907, 229)"
      ]
     },
     "execution_count": 3,
     "metadata": {},
     "output_type": "execute_result"
    }
   ],
   "source": [
    "benefits.shape"
   ]
  },
  {
   "cell_type": "code",
   "execution_count": 49,
   "metadata": {
    "scrolled": true
   },
   "outputs": [],
   "source": [
    "# benefits[['BenefitName', 'StandardComponentId']].head()"
   ]
  },
  {
   "cell_type": "code",
   "execution_count": 47,
   "metadata": {},
   "outputs": [
    {
     "data": {
      "text/html": [
       "<div>\n",
       "<style scoped>\n",
       "    .dataframe tbody tr th:only-of-type {\n",
       "        vertical-align: middle;\n",
       "    }\n",
       "\n",
       "    .dataframe tbody tr th {\n",
       "        vertical-align: top;\n",
       "    }\n",
       "\n",
       "    .dataframe thead th {\n",
       "        text-align: right;\n",
       "    }\n",
       "</style>\n",
       "<table border=\"1\" class=\"dataframe\">\n",
       "  <thead>\n",
       "    <tr style=\"text-align: right;\">\n",
       "      <th></th>\n",
       "      <th>BenefitName</th>\n",
       "    </tr>\n",
       "    <tr>\n",
       "      <th>StandardComponentId</th>\n",
       "      <th></th>\n",
       "    </tr>\n",
       "  </thead>\n",
       "  <tbody>\n",
       "    <tr>\n",
       "      <th>10046HI0020003</th>\n",
       "      <td>9</td>\n",
       "    </tr>\n",
       "    <tr>\n",
       "      <th>10046HI0020004</th>\n",
       "      <td>9</td>\n",
       "    </tr>\n",
       "    <tr>\n",
       "      <th>10046HI0020005</th>\n",
       "      <td>9</td>\n",
       "    </tr>\n",
       "    <tr>\n",
       "      <th>10046HI0020006</th>\n",
       "      <td>9</td>\n",
       "    </tr>\n",
       "    <tr>\n",
       "      <th>10064IN0050001</th>\n",
       "      <td>9</td>\n",
       "    </tr>\n",
       "    <tr>\n",
       "      <th>10064IN0050002</th>\n",
       "      <td>9</td>\n",
       "    </tr>\n",
       "    <tr>\n",
       "      <th>10091OR0360004</th>\n",
       "      <td>72</td>\n",
       "    </tr>\n",
       "    <tr>\n",
       "      <th>10091OR0360005</th>\n",
       "      <td>72</td>\n",
       "    </tr>\n",
       "    <tr>\n",
       "      <th>10091OR0360006</th>\n",
       "      <td>0</td>\n",
       "    </tr>\n",
       "    <tr>\n",
       "      <th>10091OR0360007</th>\n",
       "      <td>0</td>\n",
       "    </tr>\n",
       "  </tbody>\n",
       "</table>\n",
       "</div>"
      ],
      "text/plain": [
       "                     BenefitName\n",
       "StandardComponentId             \n",
       "10046HI0020003                 9\n",
       "10046HI0020004                 9\n",
       "10046HI0020005                 9\n",
       "10046HI0020006                 9\n",
       "10064IN0050001                 9\n",
       "10064IN0050002                 9\n",
       "10091OR0360004                72\n",
       "10091OR0360005                72\n",
       "10091OR0360006                 0\n",
       "10091OR0360007                 0"
      ]
     },
     "execution_count": 47,
     "metadata": {},
     "output_type": "execute_result"
    }
   ],
   "source": [
    "benefits.groupby('StandardComponentId')[['BenefitName']].nunique()[0:10]"
   ]
  },
  {
   "cell_type": "code",
   "execution_count": 48,
   "metadata": {},
   "outputs": [
    {
     "data": {
      "text/html": [
       "<div>\n",
       "<style scoped>\n",
       "    .dataframe tbody tr th:only-of-type {\n",
       "        vertical-align: middle;\n",
       "    }\n",
       "\n",
       "    .dataframe tbody tr th {\n",
       "        vertical-align: top;\n",
       "    }\n",
       "\n",
       "    .dataframe thead th {\n",
       "        text-align: right;\n",
       "    }\n",
       "</style>\n",
       "<table border=\"1\" class=\"dataframe\">\n",
       "  <thead>\n",
       "    <tr style=\"text-align: right;\">\n",
       "      <th></th>\n",
       "      <th>BenefitName</th>\n",
       "      <th>BusinessYear</th>\n",
       "      <th>CoinsInnTier1</th>\n",
       "      <th>CoinsInnTier2</th>\n",
       "      <th>CoinsOutofNet</th>\n",
       "      <th>CopayInnTier1</th>\n",
       "      <th>CopayInnTier2</th>\n",
       "      <th>CopayOutofNet</th>\n",
       "      <th>IsCovered</th>\n",
       "      <th>IsExclFromInnMOOP</th>\n",
       "      <th>...</th>\n",
       "      <th>Vital Pulpotomy</th>\n",
       "      <th>Weight Loss Programs</th>\n",
       "      <th>Well Baby Visits and Care</th>\n",
       "      <th>Well Child Care</th>\n",
       "      <th>Wellness Rewards</th>\n",
       "      <th>Wigs</th>\n",
       "      <th>Wilm's Tumor</th>\n",
       "      <th>X-Rays and Exams - Adult</th>\n",
       "      <th>X-Rays and Exams - Child</th>\n",
       "      <th>X-rays and Diagnostic Imaging</th>\n",
       "    </tr>\n",
       "  </thead>\n",
       "  <tbody>\n",
       "  </tbody>\n",
       "</table>\n",
       "<p>0 rows × 229 columns</p>\n",
       "</div>"
      ],
      "text/plain": [
       "Empty DataFrame\n",
       "Columns: [BenefitName, BusinessYear, CoinsInnTier1, CoinsInnTier2, CoinsOutofNet, CopayInnTier1, CopayInnTier2, CopayOutofNet, IsCovered, IsExclFromInnMOOP, IsExclFromOonMOOP, IsSubjToDedTier1, IsSubjToDedTier2, LimitQty, LimitUnit, MinimumStay, PlanId, QuantLimitOnSvc, RowNumber, StandardComponentId, StateCode, Crosswalk, Acupuncture, Air Ambulance, Allergy Testing, Anesthesia, Applied Behavior Analysis Based Therapies, Attention Deficit Disorder, Autism Spectrum Disorders, Bariatric Surgery, Biofeedback for Treatment of Medical Diagnosis, Blood and Blood Services, Bone Marrow Testing, Bone Marrow Transplant, Bones/Joints, Brain Injury, Breast Cancer Pain Medication and Therapy, Breast Implant Removal, Breast Reconstructive Surgery, Cancer Drug Administration, Cancer Treatments, Cancer Treatments - Child, Cardiac and Pulmonary Rehabilitation, Chemotherapy, Chiropractic Care, Chlamydia Screening, Clinical Trials, Cochlear Implants, Colonoscopy, Congenital Anomaly, including Cleft Lip/Palate, Contraceptive Devices, Contraceptive Services, Cosmetic Orthodontia, Cosmetic Surgery, Craniofacial Surgery, Delivery and All Inpatient Services for Maternity Care, Dental Anesthesia, Dental Bridges - Adult, Dental Bridges - Child, Dental Care, Basic - Adult, Dental Care, Basic - Child, Dental Care, Major - Adult, Dental Care, Major - Child, Dental Care, Minor - Adult, Dental Care, Minor - Child, Dental Care, Non-Routine - Adult, Dental Care, Routine - Adult, Dental Cleanings - Adult, Dental Cleanings - Child, Dental Crowns - Adult, Dental Crowns - Child, Dental Post and Core Build-up, Dental X-Rays, Dental, Accidental - Adult, Dental, Accidental - Child, Dentures - Adult, Dentures - Child, Diabetes Care Management, Diabetes Education, Dialysis, Dietician Services, Domestic Violence Treatment, Drugs, Generic, Drugs, Generic - Non-Preferred, Drugs, Generic - Tier 2, Drugs, Preferred Brand, Drugs, Prescription - Off Label, Drugs, Prescription - Other, Drugs, Prescription - Tier 2, Drugs, Preventive, Drugs, Specialty - Non-Preferred, Durable Medical Equipment, Early Intervention Services, Electroconvulsive Therapy, Emergency Room Services, Emergency Transportation/Ambulance, Endodontics - Adult, Endodontics - Child, Extractions, Eye Refractive Surgery, ...]\n",
       "Index: []\n",
       "\n",
       "[0 rows x 229 columns]"
      ]
     },
     "execution_count": 48,
     "metadata": {},
     "output_type": "execute_result"
    }
   ],
   "source": [
    "benefits[benefits['StandardComponentId'] == '10091OR0360007']"
   ]
  },
  {
   "cell_type": "code",
   "execution_count": null,
   "metadata": {},
   "outputs": [],
   "source": [
    "# def load_pkl(pkl_name):\n",
    "#     with open (f'../pickles/{pkl_name}.pkl', 'rb') as pkl:\n",
    "#         pkl_name = pickle.load(pkl)\n",
    "#     return pkl_name"
   ]
  },
  {
   "cell_type": "code",
   "execution_count": null,
   "metadata": {},
   "outputs": [],
   "source": [
    "# def pkl_lister(pkl_list):\n",
    "#     return {val: load_pkl(val) for val in pkl_list}"
   ]
  }
 ],
 "metadata": {
  "kernelspec": {
   "display_name": "Python 3",
   "language": "python",
   "name": "python3"
  },
  "language_info": {
   "codemirror_mode": {
    "name": "ipython",
    "version": 3
   },
   "file_extension": ".py",
   "mimetype": "text/x-python",
   "name": "python",
   "nbconvert_exporter": "python",
   "pygments_lexer": "ipython3",
   "version": "3.6.5"
  }
 },
 "nbformat": 4,
 "nbformat_minor": 2
}
