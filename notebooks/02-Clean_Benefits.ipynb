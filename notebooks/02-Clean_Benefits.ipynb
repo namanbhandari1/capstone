{
 "cells": [
  {
   "cell_type": "markdown",
   "metadata": {},
   "source": [
    "# 2. Clean Benefits"
   ]
  },
  {
   "cell_type": "code",
   "execution_count": 1,
   "metadata": {},
   "outputs": [],
   "source": [
    "import pandas as pd\n",
    "import numpy as np\n",
    "\n",
    "import pickle\n",
    "import regex as re"
   ]
  },
  {
   "cell_type": "code",
   "execution_count": 2,
   "metadata": {},
   "outputs": [],
   "source": [
    "with open('../pickles/benefits.pkl', 'rb') as benefits:\n",
    "    benefits = pickle.load(benefits)"
   ]
  },
  {
   "cell_type": "code",
   "execution_count": 3,
   "metadata": {},
   "outputs": [
    {
     "name": "stdout",
     "output_type": "stream",
     "text": [
      "<class 'pandas.core.frame.DataFrame'>\n",
      "RangeIndex: 5048408 entries, 0 to 5048407\n",
      "Data columns (total 32 columns):\n",
      "BenefitName            category\n",
      "BusinessYear           int64\n",
      "CoinsInnTier1          category\n",
      "CoinsInnTier2          category\n",
      "CoinsOutofNet          category\n",
      "CopayInnTier1          category\n",
      "CopayInnTier2          category\n",
      "CopayOutofNet          category\n",
      "EHBVarReason           category\n",
      "Exclusions             category\n",
      "Explanation            category\n",
      "ImportDate             category\n",
      "IsCovered              category\n",
      "IsEHB                  category\n",
      "IsExclFromInnMOOP      category\n",
      "IsExclFromOonMOOP      category\n",
      "IsStateMandate         category\n",
      "IsSubjToDedTier1       category\n",
      "IsSubjToDedTier2       category\n",
      "IssuerId               int64\n",
      "IssuerId2              int64\n",
      "LimitQty               float64\n",
      "LimitUnit              category\n",
      "MinimumStay            float64\n",
      "PlanId                 category\n",
      "QuantLimitOnSvc        category\n",
      "RowNumber              int64\n",
      "SourceName             category\n",
      "StandardComponentId    category\n",
      "StateCode              category\n",
      "StateCode2             category\n",
      "VersionNum             int64\n",
      "dtypes: category(25), float64(2), int64(5)\n",
      "memory usage: 443.5 MB\n"
     ]
    }
   ],
   "source": [
    "benefits.info()"
   ]
  },
  {
   "cell_type": "code",
   "execution_count": 4,
   "metadata": {},
   "outputs": [],
   "source": [
    "benefits = benefits[benefits.PlanId.str.contains('-00')]"
   ]
  },
  {
   "cell_type": "code",
   "execution_count": 5,
   "metadata": {},
   "outputs": [],
   "source": [
    "benefits.drop(columns=['EHBVarReason', \n",
    "                       'Exclusions',\n",
    "                       'Explanation',\n",
    "                       'ImportDate',\n",
    "                       'IsEHB',\n",
    "                       'IsStateMandate',\n",
    "                       'VersionNum',\n",
    "                       'StateCode2',\n",
    "                       'IssuerId',\n",
    "                       'IssuerId2',\n",
    "                       'SourceName'], inplace=True)"
   ]
  },
  {
   "cell_type": "code",
   "execution_count": 6,
   "metadata": {},
   "outputs": [],
   "source": [
    "benefits = benefits.dropna(subset=['IsCovered'])"
   ]
  },
  {
   "cell_type": "code",
   "execution_count": 7,
   "metadata": {},
   "outputs": [],
   "source": [
    "benefits = benefits[benefits['BusinessYear'] == 2016]"
   ]
  },
  {
   "cell_type": "code",
   "execution_count": 8,
   "metadata": {},
   "outputs": [],
   "source": [
    "benefits['BenefitName'] = benefits['BenefitName'].map(lambda x: x.replace('\\x93', ''))\n",
    "benefits['BenefitName'] = benefits['BenefitName'].map(lambda x: x.replace('\\x94', ''))\n",
    "benefits['BenefitName'] = benefits['BenefitName'].map(lambda x: x.replace('\\t', ''))"
   ]
  },
  {
   "cell_type": "code",
   "execution_count": 9,
   "metadata": {},
   "outputs": [
    {
     "data": {
      "text/plain": [
       "(425215, 21)"
      ]
     },
     "execution_count": 9,
     "metadata": {},
     "output_type": "execute_result"
    }
   ],
   "source": [
    "benefits.shape"
   ]
  },
  {
   "cell_type": "code",
   "execution_count": 10,
   "metadata": {},
   "outputs": [],
   "source": [
    "# benefits.to_csv('../data/benefits_shrink.csv', index='BenefitName')"
   ]
  },
  {
   "cell_type": "code",
   "execution_count": 11,
   "metadata": {},
   "outputs": [],
   "source": [
    "crosswalk = pd.read_csv('../data/crosswalk2.csv')"
   ]
  },
  {
   "cell_type": "code",
   "execution_count": 12,
   "metadata": {},
   "outputs": [],
   "source": [
    "benefits = pd.merge(benefits, crosswalk, on='BenefitName')"
   ]
  },
  {
   "cell_type": "code",
   "execution_count": 13,
   "metadata": {},
   "outputs": [],
   "source": [
    "dummies = pd.get_dummies(benefits['Crosswalk'])"
   ]
  },
  {
   "cell_type": "code",
   "execution_count": 14,
   "metadata": {},
   "outputs": [
    {
     "data": {
      "text/plain": [
       "(425215, 22)"
      ]
     },
     "execution_count": 14,
     "metadata": {},
     "output_type": "execute_result"
    }
   ],
   "source": [
    "benefits.shape"
   ]
  },
  {
   "cell_type": "code",
   "execution_count": 15,
   "metadata": {},
   "outputs": [],
   "source": [
    "benefits = pd.concat([benefits, dummies], axis=1)"
   ]
  },
  {
   "cell_type": "code",
   "execution_count": 16,
   "metadata": {},
   "outputs": [],
   "source": [
    "benefits = benefits[benefits['delete'] != 1]"
   ]
  },
  {
   "cell_type": "code",
   "execution_count": 17,
   "metadata": {},
   "outputs": [],
   "source": [
    "benefits = benefits.drop('delete', axis=1)"
   ]
  },
  {
   "cell_type": "code",
   "execution_count": 18,
   "metadata": {},
   "outputs": [
    {
     "data": {
      "text/plain": [
       "(413907, 229)"
      ]
     },
     "execution_count": 18,
     "metadata": {},
     "output_type": "execute_result"
    }
   ],
   "source": [
    "benefits.shape"
   ]
  },
  {
   "cell_type": "code",
   "execution_count": 21,
   "metadata": {},
   "outputs": [],
   "source": [
    "with open('../pickles/benefits_dum.pkl', 'wb') as file:\n",
    "    pickle.dump(benefits, file)"
   ]
  }
 ],
 "metadata": {
  "kernelspec": {
   "display_name": "Python 3",
   "language": "python",
   "name": "python3"
  },
  "language_info": {
   "codemirror_mode": {
    "name": "ipython",
    "version": 3
   },
   "file_extension": ".py",
   "mimetype": "text/x-python",
   "name": "python",
   "nbconvert_exporter": "python",
   "pygments_lexer": "ipython3",
   "version": "3.6.5"
  }
 },
 "nbformat": 4,
 "nbformat_minor": 2
}
