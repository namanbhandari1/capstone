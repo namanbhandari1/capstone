{
 "cells": [
  {
   "cell_type": "markdown",
   "metadata": {},
   "source": [
    "# 3. Join Rate and Benefits"
   ]
  },
  {
   "cell_type": "markdown",
   "metadata": {},
   "source": [
    "In this notebook, I want to import my cleaned my **rate.pkl** file and do the following:\n",
    "- drop certain un-needed columns\n",
    "- filter by the most recent year available (2016)\n",
    "- concatenate my `benefits` dataframe to my `rate` dataframe by `'StandardComponentId'`, which is the plan identifer."
   ]
  },
  {
   "cell_type": "markdown",
   "metadata": {},
   "source": [
    "## Load Files"
   ]
  },
  {
   "cell_type": "code",
   "execution_count": 1,
   "metadata": {},
   "outputs": [],
   "source": [
    "import pandas as pd\n",
    "import numpy as np\n",
    "\n",
    "import pickle\n",
    "import regex as re\n",
    "\n",
    "import matplotlib.pyplot as plt\n",
    "%matplotlib inline"
   ]
  },
  {
   "cell_type": "markdown",
   "metadata": {},
   "source": [
    "Load a few files:\n",
    "- rate.pkl\n",
    "- benefits_dum.pkl\n",
    "- crosswalk2.csv"
   ]
  },
  {
   "cell_type": "code",
   "execution_count": 2,
   "metadata": {},
   "outputs": [],
   "source": [
    "with open('../pickles/rate.pkl', 'rb') as rate:\n",
    "    rate = pickle.load(rate)"
   ]
  },
  {
   "cell_type": "code",
   "execution_count": 53,
   "metadata": {},
   "outputs": [],
   "source": [
    "rate_cols = [col for col in rate.columns]"
   ]
  },
  {
   "cell_type": "code",
   "execution_count": 3,
   "metadata": {},
   "outputs": [
    {
     "data": {
      "text/plain": [
       "(12694445, 24)"
      ]
     },
     "execution_count": 3,
     "metadata": {},
     "output_type": "execute_result"
    }
   ],
   "source": [
    "rate.shape"
   ]
  },
  {
   "cell_type": "code",
   "execution_count": 4,
   "metadata": {},
   "outputs": [],
   "source": [
    "with open('../pickles/benefits_dum.pkl', 'rb') as benefits_dum:\n",
    "    benefits = pickle.load(benefits_dum)"
   ]
  },
  {
   "cell_type": "code",
   "execution_count": 5,
   "metadata": {},
   "outputs": [
    {
     "data": {
      "text/plain": [
       "(413907, 229)"
      ]
     },
     "execution_count": 5,
     "metadata": {},
     "output_type": "execute_result"
    }
   ],
   "source": [
    "benefits.shape"
   ]
  },
  {
   "cell_type": "code",
   "execution_count": 6,
   "metadata": {},
   "outputs": [],
   "source": [
    "crosswalk = pd.read_csv('../data/crosswalk2.csv')"
   ]
  },
  {
   "cell_type": "code",
   "execution_count": 7,
   "metadata": {},
   "outputs": [
    {
     "data": {
      "text/plain": [
       "(412, 2)"
      ]
     },
     "execution_count": 7,
     "metadata": {},
     "output_type": "execute_result"
    }
   ],
   "source": [
    "crosswalk.shape"
   ]
  },
  {
   "cell_type": "markdown",
   "metadata": {},
   "source": [
    "## Cleaning"
   ]
  },
  {
   "cell_type": "markdown",
   "metadata": {},
   "source": [
    "Drop un-needed columns:"
   ]
  },
  {
   "cell_type": "code",
   "execution_count": 8,
   "metadata": {},
   "outputs": [],
   "source": [
    "rate.drop(columns=['IssuerId', \n",
    "                   'SourceName',\n",
    "                   'VersionNum',\n",
    "                   'ImportDate',\n",
    "                   'IssuerId2',\n",
    "                   'FederalTIN'], inplace=True)"
   ]
  },
  {
   "cell_type": "markdown",
   "metadata": {},
   "source": [
    "Filter by year:"
   ]
  },
  {
   "cell_type": "code",
   "execution_count": 9,
   "metadata": {},
   "outputs": [],
   "source": [
    "rate = rate[rate['BusinessYear'] == 2016]"
   ]
  },
  {
   "cell_type": "code",
   "execution_count": 10,
   "metadata": {
    "scrolled": true
   },
   "outputs": [
    {
     "data": {
      "text/html": [
       "<div>\n",
       "<style scoped>\n",
       "    .dataframe tbody tr th:only-of-type {\n",
       "        vertical-align: middle;\n",
       "    }\n",
       "\n",
       "    .dataframe tbody tr th {\n",
       "        vertical-align: top;\n",
       "    }\n",
       "\n",
       "    .dataframe thead th {\n",
       "        text-align: right;\n",
       "    }\n",
       "</style>\n",
       "<table border=\"1\" class=\"dataframe\">\n",
       "  <thead>\n",
       "    <tr style=\"text-align: right;\">\n",
       "      <th></th>\n",
       "      <th>BusinessYear</th>\n",
       "      <th>StateCode</th>\n",
       "      <th>RateEffectiveDate</th>\n",
       "      <th>RateExpirationDate</th>\n",
       "      <th>PlanId</th>\n",
       "      <th>RatingAreaId</th>\n",
       "      <th>Tobacco</th>\n",
       "      <th>Age</th>\n",
       "      <th>IndividualRate</th>\n",
       "      <th>IndividualTobaccoRate</th>\n",
       "      <th>Couple</th>\n",
       "      <th>PrimarySubscriberAndOneDependent</th>\n",
       "      <th>PrimarySubscriberAndTwoDependents</th>\n",
       "      <th>PrimarySubscriberAndThreeOrMoreDependents</th>\n",
       "      <th>CoupleAndOneDependent</th>\n",
       "      <th>CoupleAndTwoDependents</th>\n",
       "      <th>CoupleAndThreeOrMoreDependents</th>\n",
       "      <th>RowNumber</th>\n",
       "    </tr>\n",
       "  </thead>\n",
       "  <tbody>\n",
       "    <tr>\n",
       "      <th>8472480</th>\n",
       "      <td>2016</td>\n",
       "      <td>AK</td>\n",
       "      <td>2016-01-01</td>\n",
       "      <td>2016-12-31</td>\n",
       "      <td>21989AK0030001</td>\n",
       "      <td>Rating Area 1</td>\n",
       "      <td>No Preference</td>\n",
       "      <td>0-20</td>\n",
       "      <td>43.00</td>\n",
       "      <td>NaN</td>\n",
       "      <td>NaN</td>\n",
       "      <td>NaN</td>\n",
       "      <td>NaN</td>\n",
       "      <td>NaN</td>\n",
       "      <td>NaN</td>\n",
       "      <td>NaN</td>\n",
       "      <td>NaN</td>\n",
       "      <td>14</td>\n",
       "    </tr>\n",
       "    <tr>\n",
       "      <th>8472481</th>\n",
       "      <td>2016</td>\n",
       "      <td>AK</td>\n",
       "      <td>2016-01-01</td>\n",
       "      <td>2016-03-31</td>\n",
       "      <td>21989AK0080001</td>\n",
       "      <td>Rating Area 1</td>\n",
       "      <td>No Preference</td>\n",
       "      <td>Family Option</td>\n",
       "      <td>50.67</td>\n",
       "      <td>NaN</td>\n",
       "      <td>100.33</td>\n",
       "      <td>116.04</td>\n",
       "      <td>116.04</td>\n",
       "      <td>116.04</td>\n",
       "      <td>117.86</td>\n",
       "      <td>117.86</td>\n",
       "      <td>117.86</td>\n",
       "      <td>14</td>\n",
       "    </tr>\n",
       "    <tr>\n",
       "      <th>8472482</th>\n",
       "      <td>2016</td>\n",
       "      <td>AK</td>\n",
       "      <td>2016-04-01</td>\n",
       "      <td>2016-06-30</td>\n",
       "      <td>21989AK0080001</td>\n",
       "      <td>Rating Area 1</td>\n",
       "      <td>No Preference</td>\n",
       "      <td>Family Option</td>\n",
       "      <td>51.36</td>\n",
       "      <td>NaN</td>\n",
       "      <td>101.70</td>\n",
       "      <td>117.62</td>\n",
       "      <td>117.62</td>\n",
       "      <td>117.62</td>\n",
       "      <td>180.28</td>\n",
       "      <td>180.28</td>\n",
       "      <td>180.28</td>\n",
       "      <td>14</td>\n",
       "    </tr>\n",
       "    <tr>\n",
       "      <th>8472483</th>\n",
       "      <td>2016</td>\n",
       "      <td>AK</td>\n",
       "      <td>2016-01-01</td>\n",
       "      <td>2016-03-31</td>\n",
       "      <td>21989AK0090001</td>\n",
       "      <td>Rating Area 1</td>\n",
       "      <td>No Preference</td>\n",
       "      <td>0-20</td>\n",
       "      <td>61.00</td>\n",
       "      <td>NaN</td>\n",
       "      <td>NaN</td>\n",
       "      <td>NaN</td>\n",
       "      <td>NaN</td>\n",
       "      <td>NaN</td>\n",
       "      <td>NaN</td>\n",
       "      <td>NaN</td>\n",
       "      <td>NaN</td>\n",
       "      <td>14</td>\n",
       "    </tr>\n",
       "    <tr>\n",
       "      <th>8472484</th>\n",
       "      <td>2016</td>\n",
       "      <td>AK</td>\n",
       "      <td>2016-04-01</td>\n",
       "      <td>2016-06-30</td>\n",
       "      <td>21989AK0090001</td>\n",
       "      <td>Rating Area 1</td>\n",
       "      <td>No Preference</td>\n",
       "      <td>0-20</td>\n",
       "      <td>62.00</td>\n",
       "      <td>NaN</td>\n",
       "      <td>NaN</td>\n",
       "      <td>NaN</td>\n",
       "      <td>NaN</td>\n",
       "      <td>NaN</td>\n",
       "      <td>NaN</td>\n",
       "      <td>NaN</td>\n",
       "      <td>NaN</td>\n",
       "      <td>14</td>\n",
       "    </tr>\n",
       "  </tbody>\n",
       "</table>\n",
       "</div>"
      ],
      "text/plain": [
       "         BusinessYear StateCode RateEffectiveDate RateExpirationDate  \\\n",
       "8472480          2016        AK        2016-01-01         2016-12-31   \n",
       "8472481          2016        AK        2016-01-01         2016-03-31   \n",
       "8472482          2016        AK        2016-04-01         2016-06-30   \n",
       "8472483          2016        AK        2016-01-01         2016-03-31   \n",
       "8472484          2016        AK        2016-04-01         2016-06-30   \n",
       "\n",
       "                 PlanId   RatingAreaId        Tobacco            Age  \\\n",
       "8472480  21989AK0030001  Rating Area 1  No Preference           0-20   \n",
       "8472481  21989AK0080001  Rating Area 1  No Preference  Family Option   \n",
       "8472482  21989AK0080001  Rating Area 1  No Preference  Family Option   \n",
       "8472483  21989AK0090001  Rating Area 1  No Preference           0-20   \n",
       "8472484  21989AK0090001  Rating Area 1  No Preference           0-20   \n",
       "\n",
       "         IndividualRate  IndividualTobaccoRate  Couple  \\\n",
       "8472480           43.00                    NaN     NaN   \n",
       "8472481           50.67                    NaN  100.33   \n",
       "8472482           51.36                    NaN  101.70   \n",
       "8472483           61.00                    NaN     NaN   \n",
       "8472484           62.00                    NaN     NaN   \n",
       "\n",
       "         PrimarySubscriberAndOneDependent  PrimarySubscriberAndTwoDependents  \\\n",
       "8472480                               NaN                                NaN   \n",
       "8472481                            116.04                             116.04   \n",
       "8472482                            117.62                             117.62   \n",
       "8472483                               NaN                                NaN   \n",
       "8472484                               NaN                                NaN   \n",
       "\n",
       "         PrimarySubscriberAndThreeOrMoreDependents  CoupleAndOneDependent  \\\n",
       "8472480                                        NaN                    NaN   \n",
       "8472481                                     116.04                 117.86   \n",
       "8472482                                     117.62                 180.28   \n",
       "8472483                                        NaN                    NaN   \n",
       "8472484                                        NaN                    NaN   \n",
       "\n",
       "         CoupleAndTwoDependents  CoupleAndThreeOrMoreDependents  RowNumber  \n",
       "8472480                     NaN                             NaN         14  \n",
       "8472481                  117.86                          117.86         14  \n",
       "8472482                  180.28                          180.28         14  \n",
       "8472483                     NaN                             NaN         14  \n",
       "8472484                     NaN                             NaN         14  "
      ]
     },
     "execution_count": 10,
     "metadata": {},
     "output_type": "execute_result"
    }
   ],
   "source": [
    "rate.head()"
   ]
  },
  {
   "cell_type": "markdown",
   "metadata": {},
   "source": [
    "1. Drop `'PlanId'` from `benefits`\n",
    "2. Rename `'StandardComponentId'` to `'PlanId'`"
   ]
  },
  {
   "cell_type": "code",
   "execution_count": 11,
   "metadata": {},
   "outputs": [],
   "source": [
    "benefits.drop(columns=['PlanId'], inplace=True)"
   ]
  },
  {
   "cell_type": "code",
   "execution_count": 12,
   "metadata": {},
   "outputs": [],
   "source": [
    "benefits = benefits.rename(columns={'StandardComponentId': 'PlanId'}) "
   ]
  },
  {
   "cell_type": "code",
   "execution_count": 13,
   "metadata": {},
   "outputs": [
    {
     "data": {
      "text/plain": [
       "(4221965, 18)"
      ]
     },
     "execution_count": 13,
     "metadata": {},
     "output_type": "execute_result"
    }
   ],
   "source": [
    "rate.shape"
   ]
  },
  {
   "cell_type": "code",
   "execution_count": 14,
   "metadata": {},
   "outputs": [
    {
     "data": {
      "text/plain": [
       "(413907, 228)"
      ]
     },
     "execution_count": 14,
     "metadata": {},
     "output_type": "execute_result"
    }
   ],
   "source": [
    "benefits.shape"
   ]
  },
  {
   "cell_type": "markdown",
   "metadata": {},
   "source": [
    "## Filtering"
   ]
  },
  {
   "cell_type": "markdown",
   "metadata": {},
   "source": [
    "Create a filter to view only the dummied columns in `benefits`:"
   ]
  },
  {
   "cell_type": "code",
   "execution_count": 15,
   "metadata": {},
   "outputs": [],
   "source": [
    "cols = [x for x in crosswalk['Crosswalk'].unique()]"
   ]
  },
  {
   "cell_type": "code",
   "execution_count": 16,
   "metadata": {},
   "outputs": [],
   "source": [
    "cols.remove('delete') "
   ]
  },
  {
   "cell_type": "code",
   "execution_count": 17,
   "metadata": {},
   "outputs": [],
   "source": [
    "cols.insert(0, 'BenefitName')\n",
    "cols.insert(1, 'PlanId')"
   ]
  },
  {
   "cell_type": "code",
   "execution_count": 18,
   "metadata": {},
   "outputs": [],
   "source": [
    "cols_dum = [x for x in cols if x != 'BenefitName' if x != 'PlanId']"
   ]
  },
  {
   "cell_type": "code",
   "execution_count": 19,
   "metadata": {},
   "outputs": [
    {
     "data": {
      "text/html": [
       "<div>\n",
       "<style scoped>\n",
       "    .dataframe tbody tr th:only-of-type {\n",
       "        vertical-align: middle;\n",
       "    }\n",
       "\n",
       "    .dataframe tbody tr th {\n",
       "        vertical-align: top;\n",
       "    }\n",
       "\n",
       "    .dataframe thead th {\n",
       "        text-align: right;\n",
       "    }\n",
       "</style>\n",
       "<table border=\"1\" class=\"dataframe\">\n",
       "  <thead>\n",
       "    <tr style=\"text-align: right;\">\n",
       "      <th></th>\n",
       "      <th>Dental Care, Basic - Child</th>\n",
       "      <th>Dental Care, Major - Child</th>\n",
       "      <th>Orthodontia - Child</th>\n",
       "      <th>Dental, Accidental - Adult</th>\n",
       "      <th>Dental Care, Basic - Adult</th>\n",
       "      <th>Dental Care, Major - Adult</th>\n",
       "      <th>Dental Care, Routine - Adult</th>\n",
       "      <th>Orthodontia - Adult</th>\n",
       "      <th>Delivery and All Inpatient Services for Maternity Care</th>\n",
       "      <th>Durable Medical Equipment</th>\n",
       "      <th>...</th>\n",
       "      <th>Endodontics - Adult</th>\n",
       "      <th>Habilitation - Acquired Brain Injury</th>\n",
       "      <th>Dental Cleanings - Adult</th>\n",
       "      <th>Surgical Extraction - Adult</th>\n",
       "      <th>Surgical Extraction - Child</th>\n",
       "      <th>Cosmetic Orthodontia</th>\n",
       "      <th>Renal Dialysis, End Stage</th>\n",
       "      <th>Post-cochlear implant aural therapy</th>\n",
       "      <th>X-Rays and Exams - Adult</th>\n",
       "      <th>Dental Care, Minor - Adult</th>\n",
       "    </tr>\n",
       "  </thead>\n",
       "  <tbody>\n",
       "    <tr>\n",
       "      <th>0</th>\n",
       "      <td>0</td>\n",
       "      <td>0</td>\n",
       "      <td>0</td>\n",
       "      <td>0</td>\n",
       "      <td>0</td>\n",
       "      <td>0</td>\n",
       "      <td>1</td>\n",
       "      <td>0</td>\n",
       "      <td>0</td>\n",
       "      <td>0</td>\n",
       "      <td>...</td>\n",
       "      <td>0</td>\n",
       "      <td>0</td>\n",
       "      <td>0</td>\n",
       "      <td>0</td>\n",
       "      <td>0</td>\n",
       "      <td>0</td>\n",
       "      <td>0</td>\n",
       "      <td>0</td>\n",
       "      <td>0</td>\n",
       "      <td>0</td>\n",
       "    </tr>\n",
       "    <tr>\n",
       "      <th>1</th>\n",
       "      <td>0</td>\n",
       "      <td>0</td>\n",
       "      <td>0</td>\n",
       "      <td>0</td>\n",
       "      <td>0</td>\n",
       "      <td>0</td>\n",
       "      <td>1</td>\n",
       "      <td>0</td>\n",
       "      <td>0</td>\n",
       "      <td>0</td>\n",
       "      <td>...</td>\n",
       "      <td>0</td>\n",
       "      <td>0</td>\n",
       "      <td>0</td>\n",
       "      <td>0</td>\n",
       "      <td>0</td>\n",
       "      <td>0</td>\n",
       "      <td>0</td>\n",
       "      <td>0</td>\n",
       "      <td>0</td>\n",
       "      <td>0</td>\n",
       "    </tr>\n",
       "    <tr>\n",
       "      <th>2</th>\n",
       "      <td>0</td>\n",
       "      <td>0</td>\n",
       "      <td>0</td>\n",
       "      <td>0</td>\n",
       "      <td>0</td>\n",
       "      <td>0</td>\n",
       "      <td>1</td>\n",
       "      <td>0</td>\n",
       "      <td>0</td>\n",
       "      <td>0</td>\n",
       "      <td>...</td>\n",
       "      <td>0</td>\n",
       "      <td>0</td>\n",
       "      <td>0</td>\n",
       "      <td>0</td>\n",
       "      <td>0</td>\n",
       "      <td>0</td>\n",
       "      <td>0</td>\n",
       "      <td>0</td>\n",
       "      <td>0</td>\n",
       "      <td>0</td>\n",
       "    </tr>\n",
       "    <tr>\n",
       "      <th>3</th>\n",
       "      <td>0</td>\n",
       "      <td>0</td>\n",
       "      <td>0</td>\n",
       "      <td>0</td>\n",
       "      <td>0</td>\n",
       "      <td>0</td>\n",
       "      <td>1</td>\n",
       "      <td>0</td>\n",
       "      <td>0</td>\n",
       "      <td>0</td>\n",
       "      <td>...</td>\n",
       "      <td>0</td>\n",
       "      <td>0</td>\n",
       "      <td>0</td>\n",
       "      <td>0</td>\n",
       "      <td>0</td>\n",
       "      <td>0</td>\n",
       "      <td>0</td>\n",
       "      <td>0</td>\n",
       "      <td>0</td>\n",
       "      <td>0</td>\n",
       "    </tr>\n",
       "    <tr>\n",
       "      <th>4</th>\n",
       "      <td>0</td>\n",
       "      <td>0</td>\n",
       "      <td>0</td>\n",
       "      <td>0</td>\n",
       "      <td>0</td>\n",
       "      <td>0</td>\n",
       "      <td>1</td>\n",
       "      <td>0</td>\n",
       "      <td>0</td>\n",
       "      <td>0</td>\n",
       "      <td>...</td>\n",
       "      <td>0</td>\n",
       "      <td>0</td>\n",
       "      <td>0</td>\n",
       "      <td>0</td>\n",
       "      <td>0</td>\n",
       "      <td>0</td>\n",
       "      <td>0</td>\n",
       "      <td>0</td>\n",
       "      <td>0</td>\n",
       "      <td>0</td>\n",
       "    </tr>\n",
       "  </tbody>\n",
       "</table>\n",
       "<p>5 rows × 207 columns</p>\n",
       "</div>"
      ],
      "text/plain": [
       "   Dental Care, Basic - Child  Dental Care, Major - Child  \\\n",
       "0                           0                           0   \n",
       "1                           0                           0   \n",
       "2                           0                           0   \n",
       "3                           0                           0   \n",
       "4                           0                           0   \n",
       "\n",
       "   Orthodontia - Child  Dental, Accidental - Adult  \\\n",
       "0                    0                           0   \n",
       "1                    0                           0   \n",
       "2                    0                           0   \n",
       "3                    0                           0   \n",
       "4                    0                           0   \n",
       "\n",
       "   Dental Care, Basic - Adult  Dental Care, Major - Adult  \\\n",
       "0                           0                           0   \n",
       "1                           0                           0   \n",
       "2                           0                           0   \n",
       "3                           0                           0   \n",
       "4                           0                           0   \n",
       "\n",
       "   Dental Care, Routine - Adult  Orthodontia - Adult  \\\n",
       "0                             1                    0   \n",
       "1                             1                    0   \n",
       "2                             1                    0   \n",
       "3                             1                    0   \n",
       "4                             1                    0   \n",
       "\n",
       "   Delivery and All Inpatient Services for Maternity Care  \\\n",
       "0                                                  0        \n",
       "1                                                  0        \n",
       "2                                                  0        \n",
       "3                                                  0        \n",
       "4                                                  0        \n",
       "\n",
       "   Durable Medical Equipment             ...              Endodontics - Adult  \\\n",
       "0                          0             ...                                0   \n",
       "1                          0             ...                                0   \n",
       "2                          0             ...                                0   \n",
       "3                          0             ...                                0   \n",
       "4                          0             ...                                0   \n",
       "\n",
       "   Habilitation - Acquired Brain Injury  Dental Cleanings - Adult  \\\n",
       "0                                     0                         0   \n",
       "1                                     0                         0   \n",
       "2                                     0                         0   \n",
       "3                                     0                         0   \n",
       "4                                     0                         0   \n",
       "\n",
       "   Surgical Extraction - Adult  Surgical Extraction - Child  \\\n",
       "0                            0                            0   \n",
       "1                            0                            0   \n",
       "2                            0                            0   \n",
       "3                            0                            0   \n",
       "4                            0                            0   \n",
       "\n",
       "   Cosmetic Orthodontia  Renal Dialysis, End Stage  \\\n",
       "0                     0                          0   \n",
       "1                     0                          0   \n",
       "2                     0                          0   \n",
       "3                     0                          0   \n",
       "4                     0                          0   \n",
       "\n",
       "   Post-cochlear implant aural therapy  X-Rays and Exams - Adult  \\\n",
       "0                                    0                         0   \n",
       "1                                    0                         0   \n",
       "2                                    0                         0   \n",
       "3                                    0                         0   \n",
       "4                                    0                         0   \n",
       "\n",
       "   Dental Care, Minor - Adult  \n",
       "0                           0  \n",
       "1                           0  \n",
       "2                           0  \n",
       "3                           0  \n",
       "4                           0  \n",
       "\n",
       "[5 rows x 207 columns]"
      ]
     },
     "execution_count": 19,
     "metadata": {},
     "output_type": "execute_result"
    }
   ],
   "source": [
    "benefits[cols_dum].head()"
   ]
  },
  {
   "cell_type": "markdown",
   "metadata": {},
   "source": [
    "## Merge `benefits` and `rate` on `'PlanId'`"
   ]
  },
  {
   "cell_type": "code",
   "execution_count": 20,
   "metadata": {},
   "outputs": [
    {
     "data": {
      "text/plain": [
       "8887"
      ]
     },
     "execution_count": 20,
     "metadata": {},
     "output_type": "execute_result"
    }
   ],
   "source": [
    "len(rate['PlanId'].unique())"
   ]
  },
  {
   "cell_type": "code",
   "execution_count": 21,
   "metadata": {},
   "outputs": [
    {
     "data": {
      "text/plain": [
       "8398"
      ]
     },
     "execution_count": 21,
     "metadata": {},
     "output_type": "execute_result"
    }
   ],
   "source": [
    "len(benefits['PlanId'].unique())"
   ]
  },
  {
   "cell_type": "code",
   "execution_count": 22,
   "metadata": {},
   "outputs": [
    {
     "data": {
      "text/plain": [
       "489"
      ]
     },
     "execution_count": 22,
     "metadata": {},
     "output_type": "execute_result"
    }
   ],
   "source": [
    "len(list(set(rate['PlanId'].unique()) - set(benefits['PlanId'].unique())))"
   ]
  },
  {
   "cell_type": "markdown",
   "metadata": {},
   "source": [
    "Take `benefits` and groupby `'PlanId'` to get all features of each plan on one row. Then, merge `benefits` to `rate` on `'PlanId'`."
   ]
  },
  {
   "cell_type": "code",
   "execution_count": 23,
   "metadata": {},
   "outputs": [],
   "source": [
    "benefits_planid = benefits[cols].drop('BenefitName', axis=1).groupby('PlanId').sum()"
   ]
  },
  {
   "cell_type": "code",
   "execution_count": 24,
   "metadata": {},
   "outputs": [],
   "source": [
    "ratebenefits = pd.merge(rate, benefits_planid, on='PlanId', how='outer')"
   ]
  },
  {
   "cell_type": "code",
   "execution_count": 25,
   "metadata": {},
   "outputs": [
    {
     "name": "stdout",
     "output_type": "stream",
     "text": [
      "<class 'pandas.core.frame.DataFrame'>\n",
      "Int64Index: 4221965 entries, 0 to 4221964\n",
      "Columns: 225 entries, BusinessYear to Dental Care, Minor - Adult\n",
      "dtypes: category(6), float64(9), int64(2), object(1), uint8(207)\n",
      "memory usage: 1.2+ GB\n"
     ]
    }
   ],
   "source": [
    "ratebenefits.info()"
   ]
  },
  {
   "cell_type": "code",
   "execution_count": 26,
   "metadata": {},
   "outputs": [],
   "source": [
    "ratebenefits[ratebenefits.select_dtypes(['object']).columns] = ratebenefits.select_dtypes(['object']).apply(lambda x: x.astype('category'))"
   ]
  },
  {
   "cell_type": "code",
   "execution_count": 27,
   "metadata": {
    "scrolled": true
   },
   "outputs": [
    {
     "name": "stdout",
     "output_type": "stream",
     "text": [
      "<class 'pandas.core.frame.DataFrame'>\n",
      "Int64Index: 4221965 entries, 0 to 4221964\n",
      "Columns: 225 entries, BusinessYear to Dental Care, Minor - Adult\n",
      "dtypes: category(7), float64(9), int64(2), uint8(207)\n",
      "memory usage: 1.2 GB\n"
     ]
    }
   ],
   "source": [
    "ratebenefits.info()"
   ]
  },
  {
   "cell_type": "markdown",
   "metadata": {},
   "source": [
    "## Load `PlanAttributes`"
   ]
  },
  {
   "cell_type": "code",
   "execution_count": 28,
   "metadata": {},
   "outputs": [
    {
     "name": "stderr",
     "output_type": "stream",
     "text": [
      "/Users/namanbhandari/anaconda3/lib/python3.6/site-packages/IPython/core/interactiveshell.py:3018: DtypeWarning: Columns (0,7,8,9,10,11,12,13,14,15,18,19,20,22,23,24,25,26,27,28,29,31,32,33,34,39,40,41,42,66,67,68,70,71,72,75,76,77,79,80,81,82,84,85,86,88,89,90,92,93,94,96,97,98,136,137,138,140,141,142,145,146,147,150,151,152,154,155,156,158,159,160,162,163,164,166,167,168) have mixed types. Specify dtype option on import or set low_memory=False.\n",
      "  interactivity=interactivity, compiler=compiler, result=result)\n"
     ]
    }
   ],
   "source": [
    "plan = pd.read_csv('../data/PlanAttributes.csv')"
   ]
  },
  {
   "cell_type": "code",
   "execution_count": 29,
   "metadata": {},
   "outputs": [],
   "source": [
    "plan[plan.select_dtypes(['object']).columns] = plan.select_dtypes(['object']).apply(lambda x: x.astype('category'))"
   ]
  },
  {
   "cell_type": "code",
   "execution_count": 30,
   "metadata": {},
   "outputs": [
    {
     "data": {
      "text/plain": [
       "(77353, 176)"
      ]
     },
     "execution_count": 30,
     "metadata": {},
     "output_type": "execute_result"
    }
   ],
   "source": [
    "plan.shape"
   ]
  },
  {
   "cell_type": "code",
   "execution_count": 31,
   "metadata": {},
   "outputs": [],
   "source": [
    "plan = plan[plan.PlanId.str.contains('-00')]"
   ]
  },
  {
   "cell_type": "code",
   "execution_count": 32,
   "metadata": {},
   "outputs": [],
   "source": [
    "plan = plan[plan['BusinessYear'] == 2016]"
   ]
  },
  {
   "cell_type": "code",
   "execution_count": 33,
   "metadata": {
    "scrolled": true
   },
   "outputs": [
    {
     "data": {
      "text/plain": [
       "(8398, 176)"
      ]
     },
     "execution_count": 33,
     "metadata": {},
     "output_type": "execute_result"
    }
   ],
   "source": [
    "plan.shape"
   ]
  },
  {
   "cell_type": "code",
   "execution_count": 34,
   "metadata": {},
   "outputs": [],
   "source": [
    "plan.drop(columns=['PlanId'], inplace=True)"
   ]
  },
  {
   "cell_type": "code",
   "execution_count": 35,
   "metadata": {},
   "outputs": [],
   "source": [
    "plan = plan.rename(columns={'StandardComponentId': 'PlanId'}) "
   ]
  },
  {
   "cell_type": "code",
   "execution_count": 36,
   "metadata": {
    "scrolled": true
   },
   "outputs": [
    {
     "data": {
      "text/plain": [
       "(8398, 175)"
      ]
     },
     "execution_count": 36,
     "metadata": {},
     "output_type": "execute_result"
    }
   ],
   "source": [
    "plan.shape"
   ]
  },
  {
   "cell_type": "code",
   "execution_count": 37,
   "metadata": {},
   "outputs": [],
   "source": [
    "plan_cols = ['PlanId',\n",
    "             'IsNoticeRequiredForPregnancy', \n",
    "             'IsReferralRequiredForSpecialist', \n",
    "             'ChildOnlyOffering', \n",
    "             'WellnessProgramOffered', \n",
    "             'DiseaseManagementProgramsOffered', \n",
    "             'OutOfCountryCoverage', \n",
    "             'NationalNetwork']"
   ]
  },
  {
   "cell_type": "code",
   "execution_count": 38,
   "metadata": {},
   "outputs": [
    {
     "data": {
      "text/plain": [
       "8398"
      ]
     },
     "execution_count": 38,
     "metadata": {},
     "output_type": "execute_result"
    }
   ],
   "source": [
    "len(plan[plan_cols])"
   ]
  },
  {
   "cell_type": "code",
   "execution_count": 39,
   "metadata": {},
   "outputs": [
    {
     "data": {
      "text/plain": [
       "8398"
      ]
     },
     "execution_count": 39,
     "metadata": {},
     "output_type": "execute_result"
    }
   ],
   "source": [
    "len(plan['PlanId'].unique())"
   ]
  },
  {
   "cell_type": "code",
   "execution_count": 40,
   "metadata": {},
   "outputs": [
    {
     "data": {
      "text/html": [
       "<div>\n",
       "<style scoped>\n",
       "    .dataframe tbody tr th:only-of-type {\n",
       "        vertical-align: middle;\n",
       "    }\n",
       "\n",
       "    .dataframe tbody tr th {\n",
       "        vertical-align: top;\n",
       "    }\n",
       "\n",
       "    .dataframe thead th {\n",
       "        text-align: right;\n",
       "    }\n",
       "</style>\n",
       "<table border=\"1\" class=\"dataframe\">\n",
       "  <thead>\n",
       "    <tr style=\"text-align: right;\">\n",
       "      <th></th>\n",
       "      <th>PlanId</th>\n",
       "      <th>IsNoticeRequiredForPregnancy</th>\n",
       "      <th>IsReferralRequiredForSpecialist</th>\n",
       "      <th>ChildOnlyOffering</th>\n",
       "      <th>WellnessProgramOffered</th>\n",
       "      <th>DiseaseManagementProgramsOffered</th>\n",
       "      <th>OutOfCountryCoverage</th>\n",
       "      <th>NationalNetwork</th>\n",
       "    </tr>\n",
       "  </thead>\n",
       "  <tbody>\n",
       "    <tr>\n",
       "      <th>49972</th>\n",
       "      <td>21989AK0030001</td>\n",
       "      <td>NaN</td>\n",
       "      <td>NaN</td>\n",
       "      <td>Allows Adult and Child-Only</td>\n",
       "      <td>NaN</td>\n",
       "      <td>NaN</td>\n",
       "      <td>No</td>\n",
       "      <td>Yes</td>\n",
       "    </tr>\n",
       "    <tr>\n",
       "      <th>49973</th>\n",
       "      <td>21989AK0080001</td>\n",
       "      <td>NaN</td>\n",
       "      <td>NaN</td>\n",
       "      <td>Allows Adult and Child-Only</td>\n",
       "      <td>NaN</td>\n",
       "      <td>NaN</td>\n",
       "      <td>No</td>\n",
       "      <td>Yes</td>\n",
       "    </tr>\n",
       "    <tr>\n",
       "      <th>49975</th>\n",
       "      <td>21989AK0050001</td>\n",
       "      <td>NaN</td>\n",
       "      <td>NaN</td>\n",
       "      <td>Allows Adult and Child-Only</td>\n",
       "      <td>NaN</td>\n",
       "      <td>NaN</td>\n",
       "      <td>No</td>\n",
       "      <td>Yes</td>\n",
       "    </tr>\n",
       "    <tr>\n",
       "      <th>49976</th>\n",
       "      <td>21989AK0080002</td>\n",
       "      <td>NaN</td>\n",
       "      <td>NaN</td>\n",
       "      <td>Allows Adult and Child-Only</td>\n",
       "      <td>NaN</td>\n",
       "      <td>NaN</td>\n",
       "      <td>No</td>\n",
       "      <td>Yes</td>\n",
       "    </tr>\n",
       "    <tr>\n",
       "      <th>49978</th>\n",
       "      <td>21989AK0050002</td>\n",
       "      <td>NaN</td>\n",
       "      <td>NaN</td>\n",
       "      <td>Allows Adult and Child-Only</td>\n",
       "      <td>NaN</td>\n",
       "      <td>NaN</td>\n",
       "      <td>No</td>\n",
       "      <td>Yes</td>\n",
       "    </tr>\n",
       "  </tbody>\n",
       "</table>\n",
       "</div>"
      ],
      "text/plain": [
       "               PlanId IsNoticeRequiredForPregnancy  \\\n",
       "49972  21989AK0030001                          NaN   \n",
       "49973  21989AK0080001                          NaN   \n",
       "49975  21989AK0050001                          NaN   \n",
       "49976  21989AK0080002                          NaN   \n",
       "49978  21989AK0050002                          NaN   \n",
       "\n",
       "      IsReferralRequiredForSpecialist            ChildOnlyOffering  \\\n",
       "49972                             NaN  Allows Adult and Child-Only   \n",
       "49973                             NaN  Allows Adult and Child-Only   \n",
       "49975                             NaN  Allows Adult and Child-Only   \n",
       "49976                             NaN  Allows Adult and Child-Only   \n",
       "49978                             NaN  Allows Adult and Child-Only   \n",
       "\n",
       "      WellnessProgramOffered DiseaseManagementProgramsOffered  \\\n",
       "49972                    NaN                              NaN   \n",
       "49973                    NaN                              NaN   \n",
       "49975                    NaN                              NaN   \n",
       "49976                    NaN                              NaN   \n",
       "49978                    NaN                              NaN   \n",
       "\n",
       "      OutOfCountryCoverage NationalNetwork  \n",
       "49972                   No             Yes  \n",
       "49973                   No             Yes  \n",
       "49975                   No             Yes  \n",
       "49976                   No             Yes  \n",
       "49978                   No             Yes  "
      ]
     },
     "execution_count": 40,
     "metadata": {},
     "output_type": "execute_result"
    }
   ],
   "source": [
    "plan[plan_cols].head()"
   ]
  },
  {
   "cell_type": "markdown",
   "metadata": {},
   "source": [
    "## Merge `ratebenefits` and `plan` on `'PlanId'`"
   ]
  },
  {
   "cell_type": "code",
   "execution_count": 45,
   "metadata": {},
   "outputs": [],
   "source": [
    "df = pd.merge(ratebenefits, plan[plan_cols], on='PlanId', how='outer')"
   ]
  },
  {
   "cell_type": "code",
   "execution_count": 46,
   "metadata": {},
   "outputs": [
    {
     "name": "stdout",
     "output_type": "stream",
     "text": [
      "<class 'pandas.core.frame.DataFrame'>\n",
      "Int64Index: 4221965 entries, 0 to 4221964\n",
      "Columns: 232 entries, BusinessYear to NationalNetwork\n",
      "dtypes: category(13), float64(9), int64(2), object(1), uint8(207)\n",
      "memory usage: 1.3+ GB\n"
     ]
    }
   ],
   "source": [
    "df.info()"
   ]
  }
 ],
 "metadata": {
  "kernelspec": {
   "display_name": "Python 3",
   "language": "python",
   "name": "python3"
  },
  "language_info": {
   "codemirror_mode": {
    "name": "ipython",
    "version": 3
   },
   "file_extension": ".py",
   "mimetype": "text/x-python",
   "name": "python",
   "nbconvert_exporter": "python",
   "pygments_lexer": "ipython3",
   "version": "3.6.5"
  }
 },
 "nbformat": 4,
 "nbformat_minor": 2
}
